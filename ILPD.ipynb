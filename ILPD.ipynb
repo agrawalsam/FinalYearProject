{
 "cells": [
  {
   "cell_type": "code",
   "execution_count": 295,
   "metadata": {},
   "outputs": [],
   "source": [
    "import pandas as pd\n",
    "import numpy as np\n",
    "import seaborn as sns \n",
    "import matplotlib.pyplot as plt\n",
    "import warnings\n",
    "%matplotlib inline \n",
    "warnings.filterwarnings(\"ignore\", category=FutureWarning)"
   ]
  },
  {
   "cell_type": "code",
   "execution_count": 296,
   "metadata": {},
   "outputs": [],
   "source": [
    "from sklearn import preprocessing\n",
    "from sklearn.model_selection import train_test_split\n",
    "from sklearn.neighbors import KNeighborsClassifier\n",
    "from sklearn.metrics import accuracy_score\n",
    "from sklearn.model_selection import cross_val_score\n",
    "from sklearn.model_selection import cross_val_predict\n",
    "from sklearn.linear_model import LogisticRegression\n",
    "from sklearn.metrics import confusion_matrix\n",
    "from sklearn.svm import SVC, LinearSVC\n",
    "from sklearn.naive_bayes import GaussianNB\n",
    "from sklearn.ensemble import RandomForestClassifier\n",
    "from sklearn.model_selection import KFold\n",
    "from sklearn.ensemble import VotingClassifier\n",
    "from sklearn.decomposition import PCA\n",
    "from sklearn.metrics import classification_report\n",
    "from sklearn.feature_selection import RFE\n",
    "from sklearn.feature_selection import SelectKBest\n",
    "from sklearn.feature_selection import chi2\n",
    "from sklearn.ensemble import ExtraTreesClassifier"
   ]
  },
  {
   "cell_type": "code",
   "execution_count": 297,
   "metadata": {},
   "outputs": [],
   "source": [
    "from imblearn.under_sampling import RandomUnderSampler\n",
    "from imblearn.over_sampling import RandomOverSampler\n",
    "from imblearn.under_sampling import TomekLinks\n",
    "from imblearn.under_sampling import ClusterCentroids\n",
    "from imblearn.under_sampling import EditedNearestNeighbours\n",
    "from imblearn.over_sampling import SMOTE"
   ]
  },
  {
   "cell_type": "code",
   "execution_count": 298,
   "metadata": {},
   "outputs": [
    {
     "name": "stdout",
     "output_type": "stream",
     "text": [
      "   age  gender  tot_bilirubin  direct_bilirubin  tot_proteins  albumin  \\\n",
      "0   65  Female            0.7               0.1           187       16   \n",
      "1   62    Male           10.9               5.5           699       64   \n",
      "2   62    Male            7.3               4.1           490       60   \n",
      "3   58    Male            1.0               0.4           182       14   \n",
      "4   72    Male            3.9               2.0           195       27   \n",
      "\n",
      "   ag_ratio  sgpt  sgot  alkphos  is_patient  \n",
      "0        18   6.8   3.3     0.90           1  \n",
      "1       100   7.5   3.2     0.74           1  \n",
      "2        68   7.0   3.3     0.89           1  \n",
      "3        20   6.8   3.4     1.00           1  \n",
      "4        59   7.3   2.4     0.40           1  \n"
     ]
    }
   ],
   "source": [
    "#Loading the dataset\n",
    "data = pd.read_csv('Indian Liver Patient Dataset (ILPD).csv')\n",
    "print(data.head())"
   ]
  },
  {
   "cell_type": "code",
   "execution_count": 299,
   "metadata": {},
   "outputs": [
    {
     "name": "stdout",
     "output_type": "stream",
     "text": [
      "age                 0\n",
      "gender              0\n",
      "tot_bilirubin       0\n",
      "direct_bilirubin    0\n",
      "tot_proteins        0\n",
      "albumin             0\n",
      "ag_ratio            0\n",
      "sgpt                0\n",
      "sgot                0\n",
      "alkphos             4\n",
      "is_patient          0\n",
      "dtype: int64\n",
      "age                 0\n",
      "gender              0\n",
      "tot_bilirubin       0\n",
      "direct_bilirubin    0\n",
      "tot_proteins        0\n",
      "albumin             0\n",
      "ag_ratio            0\n",
      "sgpt                0\n",
      "sgot                0\n",
      "alkphos             4\n",
      "is_patient          0\n",
      "dtype: int64\n"
     ]
    }
   ],
   "source": [
    "#checking for Null or NaN values\n",
    "print(data.isnull().sum())\n",
    "print(data.isna().sum())"
   ]
  },
  {
   "cell_type": "code",
   "execution_count": 300,
   "metadata": {},
   "outputs": [
    {
     "name": "stdout",
     "output_type": "stream",
     "text": [
      "<class 'pandas.core.frame.DataFrame'>\n",
      "RangeIndex: 583 entries, 0 to 582\n",
      "Data columns (total 11 columns):\n",
      "age                 583 non-null int64\n",
      "gender              583 non-null object\n",
      "tot_bilirubin       583 non-null float64\n",
      "direct_bilirubin    583 non-null float64\n",
      "tot_proteins        583 non-null int64\n",
      "albumin             583 non-null int64\n",
      "ag_ratio            583 non-null int64\n",
      "sgpt                583 non-null float64\n",
      "sgot                583 non-null float64\n",
      "alkphos             579 non-null float64\n",
      "is_patient          583 non-null int64\n",
      "dtypes: float64(5), int64(5), object(1)\n",
      "memory usage: 50.2+ KB\n",
      "None\n"
     ]
    }
   ],
   "source": [
    "#Info of the dataset\n",
    "print(data.info())"
   ]
  },
  {
   "cell_type": "code",
   "execution_count": 301,
   "metadata": {},
   "outputs": [
    {
     "name": "stdout",
     "output_type": "stream",
     "text": [
      "              age  tot_bilirubin  direct_bilirubin  tot_proteins      albumin  \\\n",
      "count  583.000000     583.000000        583.000000    583.000000   583.000000   \n",
      "mean    44.746141       3.298799          1.486106    290.576329    80.713551   \n",
      "std     16.189833       6.209522          2.808498    242.937989   182.620356   \n",
      "min      4.000000       0.400000          0.100000     63.000000    10.000000   \n",
      "25%     33.000000       0.800000          0.200000    175.500000    23.000000   \n",
      "50%     45.000000       1.000000          0.300000    208.000000    35.000000   \n",
      "75%     58.000000       2.600000          1.300000    298.000000    60.500000   \n",
      "max     90.000000      75.000000         19.700000   2110.000000  2000.000000   \n",
      "\n",
      "          ag_ratio        sgpt        sgot     alkphos  is_patient  \n",
      "count   583.000000  583.000000  583.000000  579.000000  583.000000  \n",
      "mean    109.910806    6.483190    3.141852    0.947064    1.286449  \n",
      "std     288.918529    1.085451    0.795519    0.319592    0.452490  \n",
      "min      10.000000    2.700000    0.900000    0.300000    1.000000  \n",
      "25%      25.000000    5.800000    2.600000    0.700000    1.000000  \n",
      "50%      42.000000    6.600000    3.100000    0.930000    1.000000  \n",
      "75%      87.000000    7.200000    3.800000    1.100000    2.000000  \n",
      "max    4929.000000    9.600000    5.500000    2.800000    2.000000  \n"
     ]
    }
   ],
   "source": [
    "#standard statistic measures\n",
    "print(data.describe())"
   ]
  },
  {
   "cell_type": "code",
   "execution_count": 302,
   "metadata": {},
   "outputs": [
    {
     "name": "stdout",
     "output_type": "stream",
     "text": [
      "age                 0\n",
      "gender              0\n",
      "tot_bilirubin       0\n",
      "direct_bilirubin    0\n",
      "tot_proteins        0\n",
      "albumin             0\n",
      "ag_ratio            0\n",
      "sgpt                0\n",
      "sgot                0\n",
      "alkphos             0\n",
      "is_patient          0\n",
      "dtype: int64\n",
      "age                 0\n",
      "gender              0\n",
      "tot_bilirubin       0\n",
      "direct_bilirubin    0\n",
      "tot_proteins        0\n",
      "albumin             0\n",
      "ag_ratio            0\n",
      "sgpt                0\n",
      "sgot                0\n",
      "alkphos             0\n",
      "is_patient          0\n",
      "dtype: int64\n"
     ]
    }
   ],
   "source": [
    "#Removing the Null or NaN values.\n",
    "data1 = data\n",
    "data1 = data1.fillna(data1.mean())\n",
    "print(data1.isna().sum())\n",
    "print(data1.isnull().sum())"
   ]
  },
  {
   "cell_type": "markdown",
   "metadata": {},
   "source": [
    "As we can see above that now there is no NaN or Null values in the dataset. "
   ]
  },
  {
   "cell_type": "code",
   "execution_count": 303,
   "metadata": {},
   "outputs": [
    {
     "name": "stdout",
     "output_type": "stream",
     "text": [
      "                       age  tot_bilirubin  direct_bilirubin  tot_proteins  \\\n",
      "age               1.000000       0.011763          0.007529      0.080425   \n",
      "tot_bilirubin     0.011763       1.000000          0.874618      0.206669   \n",
      "direct_bilirubin  0.007529       0.874618          1.000000      0.234939   \n",
      "tot_proteins      0.080425       0.206669          0.234939      1.000000   \n",
      "albumin           0.086883       0.214065          0.233894      0.125680   \n",
      "ag_ratio          0.019910       0.237831          0.257544      0.167196   \n",
      "sgpt              0.187461       0.008099          0.000139      0.028514   \n",
      "sgot              0.265924       0.222250          0.228531      0.165453   \n",
      "alkphos           0.216089       0.206159          0.200004      0.233960   \n",
      "is_patient        0.137351       0.220208          0.246046      0.184866   \n",
      "\n",
      "                   albumin  ag_ratio      sgpt      sgot   alkphos  is_patient  \n",
      "age               0.086883  0.019910  0.187461  0.265924  0.216089    0.137351  \n",
      "tot_bilirubin     0.214065  0.237831  0.008099  0.222250  0.206159    0.220208  \n",
      "direct_bilirubin  0.233894  0.257544  0.000139  0.228531  0.200004    0.246046  \n",
      "tot_proteins      0.125680  0.167196  0.028514  0.165453  0.233960    0.184866  \n",
      "albumin           1.000000  0.791966  0.042518  0.029742  0.002374    0.163416  \n",
      "ag_ratio          0.791966  1.000000  0.025645  0.085290  0.070024    0.151934  \n",
      "sgpt              0.042518  0.025645  1.000000  0.784053  0.233904    0.035008  \n",
      "sgot              0.029742  0.085290  0.784053  1.000000  0.686322    0.161388  \n",
      "alkphos           0.002374  0.070024  0.233904  0.686322  1.000000    0.162319  \n",
      "is_patient        0.163416  0.151934  0.035008  0.161388  0.162319    1.000000  \n"
     ]
    },
    {
     "data": {
      "text/plain": [
       "<matplotlib.axes._subplots.AxesSubplot at 0x7fc16d841510>"
      ]
     },
     "execution_count": 303,
     "metadata": {},
     "output_type": "execute_result"
    },
    {
     "data": {
      "image/png": "[encoded data removed]",
      "text/plain": [
       "<Figure size 432x288 with 2 Axes>"
      ]
     },
     "metadata": {
      "needs_background": "light"
     },
     "output_type": "display_data"
    }
   ],
   "source": [
    "#Checking for Correlation as to reduce dimensionality\n",
    "print(data1.corr().abs())\n",
    "sns.heatmap(data1.corr().abs(), annot=True,cmap=\"RdYlGn\")"
   ]
  },
  {
   "cell_type": "markdown",
   "metadata": {},
   "source": [
    "As we can see above the highest correlation between different columns is 0.87(\"tot_bilirubin\",\"direct_bilirubin\"), which means they are 87% similar and 13% different. So, it is not appropriate to remove any of the coulmns. "
   ]
  },
  {
   "cell_type": "code",
   "execution_count": 304,
   "metadata": {},
   "outputs": [
    {
     "name": "stdout",
     "output_type": "stream",
     "text": [
      "[1 0 0 0 0 0 1 1 0 0 0 0 0 1 0 0 0 0 1 1 0 0 0 0 0 0 0 0 0 1 0 0 0 1 1 0 1\n",
      " 1 0 0 0 0 0 0 1 0 0 0 1 0 1 1 0 0 0 0 0 1 0 0 1 0 0 0 0 0 0 0 0 0 1 1 1 0\n",
      " 0 1 0 1 0 1 1 0 0 0 0 0 0 0 0 0 0 0 0 0 0 0 0 0 0 0 0 0 0 1 0 0 0 0 0 0 1\n",
      " 0 0 0 0 0 0 0 0 0 0 0 0 1 0 0 0 0 1 0 0 1 1 0 0 0 1 0 0 0 0 1 0 0 1 0 1 0\n",
      " 0 0 0 0 1 0 0 0 0 0 0 0 0 0 0 0 0 0 0 1 0 0 0 1 0 0 0 0 0 0 0 0 0 0 0 0 0\n",
      " 0 0 0 0 1 0 0 0 0 0 0 0 1 0 1 0 0 1 0 0 0 0 0 1 1 0 0 0 1 0 0 0 0 0 0 0 0\n",
      " 0 0 0 0 0 1 1 0 0 0 0 0 1 0 0 1 1 0 0 0 1 1 0 0 0 0 0 0 0 0 0 1 1 0 0 0 0\n",
      " 0 0 0 0 1 0 0 0 1 0 0 0 0 0 0 0 0 0 0 0 1 0 0 0 0 0 0 1 0 1 0 1 0 0 0 0 0\n",
      " 1 1 1 1 0 1 1 0 1 1 0 0 1 1 0 1 0 1 0 0 0 0 0 0 1 1 0 0 0 0 1 0 0 0 0 0 0\n",
      " 1 1 1 0 0 0 0 0 1 0 0 0 0 0 0 0 1 0 0 1 1 1 0 0 0 0 1 0 1 0 1 0 0 0 0 1 1\n",
      " 1 0 0 1 1 0 0 1 1 0 0 0 1 1 0 0 0 0 0 0 0 0 0 0 1 0 0 0 0 0 1 0 1 0 0 1 0\n",
      " 0 0 0 0 1 0 0 0 0 0 0 0 1 1 0 0 0 1 0 0 0 1 0 1 1 0 1 1 1 0 0 0 1 1 1 1 1\n",
      " 0 0 0 1 1 1 0 0 0 0 0 1 0 0 0 0 1 1 0 0 1 1 1 1 0 0 0 1 0 0 0 0 0 0 0 0 0\n",
      " 0 0 0 0 1 1 0 0 0 1 0 1 0 0 0 0 0 0 0 0 0 0 0 0 0 0 0 0 0 1 0 0 0 0 0 0 0\n",
      " 0 0 0 0 1 0 0 1 0 0 0 0 1 0 0 1 0 0 0 1 0 1 0 0 0 0 1 1 0 1 0 1 0 0 0 0 0\n",
      " 0 0 0 0 0 0 0 0 0 1 0 1 0 1 0 0 0 0 0 0 0 0 0 0 0 0 0 0]\n"
     ]
    }
   ],
   "source": [
    "#Changing gender to Numeric values Female to 1 and Male to 0\n",
    "data1[\"gender\"] = data1[\"gender\"].map({\"Female\":1, \"Male\":0})\n",
    "print(data1[\"gender\"].values)"
   ]
  },
  {
   "cell_type": "code",
   "execution_count": 305,
   "metadata": {},
   "outputs": [
    {
     "name": "stdout",
     "output_type": "stream",
     "text": [
      "583\n",
      "583\n",
      "408\n",
      "175\n"
     ]
    }
   ],
   "source": [
    "#Normalizing the dataset so that the data scales properly on the algorithms. \n",
    "\n",
    "min_max_scaler = preprocessing.MinMaxScaler()\n",
    "X = data1.drop('is_patient', axis=1)\n",
    "y = data1[[\"is_patient\"]]\n",
    "\n",
    "print(len(X))\n",
    "print(len(y))\n",
    "\n",
    "X_train, X_test, y_train, y_test = train_test_split(X, y, stratify=y, test_size=0.3, random_state=99)\n",
    "data_training = pd.concat([X_train, y_train], axis=1)\n",
    "data_test = pd.concat([X_test, y_test], axis=1)\n",
    "df = data_training.values\n",
    "df_test = data_test.values\n",
    "data_training = min_max_scaler.fit_transform(df)\n",
    "data_testing = min_max_scaler.transform(df_test)\n",
    "\n",
    "data_norm = pd.DataFrame(data_training, columns=data1.columns)\n",
    "X_train = data_norm.drop(\"is_patient\", axis=1)\n",
    "y_train = data_norm[[\"is_patient\"]]\n",
    "\n",
    "data_normed = pd.DataFrame(data_testing, columns = data1.columns)\n",
    "X_test = data_normed.drop(\"is_patient\", axis=1)\n",
    "y_test = data_normed[[\"is_patient\"]]\n",
    "\n",
    "X = pd.concat([X_train, X_test], axis=0)\n",
    "y = pd.concat([y_train, y_test], axis=0)\n",
    "\n",
    "print(len(data_norm))\n",
    "print(len(data_normed))"
   ]
  },
  {
   "cell_type": "code",
   "execution_count": 306,
   "metadata": {},
   "outputs": [
    {
     "name": "stdout",
     "output_type": "stream",
     "text": [
      "Index(['age', 'gender', 'tot_bilirubin', 'direct_bilirubin', 'tot_proteins',\n",
      "       'albumin', 'ag_ratio', 'sgpt', 'sgot', 'alkphos'],\n",
      "      dtype='object')\n",
      "Fitting estimator with 10 features.\n",
      "Fitting estimator with 9 features.\n",
      "Fitting estimator with 8 features.\n",
      "Fitting estimator with 7 features.\n",
      "Fitting estimator with 6 features.\n",
      "Fitting estimator with 5 features.\n",
      "Fitting estimator with 4 features.\n",
      "Fitting estimator with 3 features.\n",
      "[6 9 1 1 2 3 5 8 4 7]\n",
      "Index(['tot_bilirubin', 'direct_bilirubin'], dtype='object')\n"
     ]
    },
    {
     "name": "stderr",
     "output_type": "stream",
     "text": [
      "/home/srix/anaconda3/lib/python3.7/site-packages/sklearn/utils/validation.py:760: DataConversionWarning: A column-vector y was passed when a 1d array was expected. Please change the shape of y to (n_samples, ), for example using ravel().\n",
      "  y = column_or_1d(y, warn=True)\n"
     ]
    }
   ],
   "source": [
    "#Feature Selection \n",
    "rfe = RFE(estimator=LogisticRegression(), n_features_to_select=2, verbose=1)\n",
    "print(X_train.columns)\n",
    "rfe.fit(X_train, y_train)\n",
    "print(rfe.ranking_)\n",
    "print(X_train.columns[rfe.support_])"
   ]
  },
  {
   "cell_type": "code",
   "execution_count": 307,
   "metadata": {},
   "outputs": [
    {
     "name": "stdout",
     "output_type": "stream",
     "text": [
      "           Features     Score\n",
      "2     tot_bilirubin  6.898676\n",
      "3  direct_bilirubin  6.847099\n",
      "1            gender  2.643982\n",
      "5           albumin  2.517531\n",
      "6          ag_ratio  2.286247\n",
      "4      tot_proteins  2.161537\n",
      "8              sgot  0.759569\n",
      "9           alkphos  0.571888\n",
      "0               age  0.343602\n",
      "7              sgpt  0.066495\n"
     ]
    }
   ],
   "source": [
    "#Univariate Selection \n",
    "#apply SelectKBest class to extract top 5 best features\n",
    "bestfeatures = SelectKBest(score_func=chi2, k=10)\n",
    "fit = bestfeatures.fit(X_train,y_train)\n",
    "dfscores = pd.DataFrame(fit.scores_)\n",
    "dfcolumns = pd.DataFrame(X_train.columns)\n",
    "#concat two dataframes for better visualization \n",
    "featureScores = pd.concat([dfcolumns,dfscores],axis=1)\n",
    "featureScores.columns = ['Features','Score']\n",
    "print(featureScores.nlargest(10,'Score')) "
   ]
  },
  {
   "cell_type": "code",
   "execution_count": 308,
   "metadata": {},
   "outputs": [
    {
     "name": "stdout",
     "output_type": "stream",
     "text": [
      "[0.11007736 0.02615249 0.11463501 0.09931122 0.11941173 0.11600682\n",
      " 0.12316449 0.09932011 0.09621079 0.09570998]\n"
     ]
    },
    {
     "data": {
      "image/png": "[encoded data removed]",
      "text/plain": [
       "<Figure size 432x288 with 1 Axes>"
      ]
     },
     "metadata": {
      "needs_background": "light"
     },
     "output_type": "display_data"
    }
   ],
   "source": [
    "#Feature Importance\n",
    "model = ExtraTreesClassifier()\n",
    "model.fit(X_train,y_train.values.ravel())\n",
    "print(model.feature_importances_)\n",
    "feat_importances = pd.Series(model.feature_importances_, index=X_train.columns)\n",
    "feat_importances.nlargest(10).plot(kind='barh')\n",
    "plt.show()"
   ]
  },
  {
   "cell_type": "code",
   "execution_count": 309,
   "metadata": {},
   "outputs": [
    {
     "name": "stdout",
     "output_type": "stream",
     "text": [
      "0.0    416\n",
      "1.0    167\n",
      "Name: is_patient, dtype: int64\n"
     ]
    }
   ],
   "source": [
    "print(y[\"is_patient\"].value_counts())"
   ]
  },
  {
   "cell_type": "markdown",
   "metadata": {},
   "source": [
    "Objective of Under and Over Sampling :\n",
    "            1) High Precision on Majority Class(0.0). High Precision indicates an example labeled as positive is                  indeed positive (small number of FP).\n",
    "            2) High Recall of Minority Class(1.0). High Recall indicates the class is correctly recognized (small                number of FN)."
   ]
  },
  {
   "cell_type": "code",
   "execution_count": 310,
   "metadata": {},
   "outputs": [
    {
     "name": "stdout",
     "output_type": "stream",
     "text": [
      "[0.52020536 0.69548154]\n"
     ]
    },
    {
     "name": "stderr",
     "output_type": "stream",
     "text": [
      "/home/srix/anaconda3/lib/python3.7/site-packages/ipykernel_launcher.py:6: SettingWithCopyWarning: \n",
      "A value is trying to be set on a copy of a slice from a DataFrame.\n",
      "Try using .loc[row_indexer,col_indexer] = value instead\n",
      "\n",
      "See the caveats in the documentation: http://pandas.pydata.org/pandas-docs/stable/user_guide/indexing.html#returning-a-view-versus-a-copy\n",
      "  \n",
      "/home/srix/anaconda3/lib/python3.7/site-packages/ipykernel_launcher.py:7: SettingWithCopyWarning: \n",
      "A value is trying to be set on a copy of a slice from a DataFrame.\n",
      "Try using .loc[row_indexer,col_indexer] = value instead\n",
      "\n",
      "See the caveats in the documentation: http://pandas.pydata.org/pandas-docs/stable/user_guide/indexing.html#returning-a-view-versus-a-copy\n",
      "  import sys\n"
     ]
    },
    {
     "data": {
      "text/plain": [
       "<matplotlib.axes._subplots.AxesSubplot at 0x7fc16d3fe5d0>"
      ]
     },
     "execution_count": 310,
     "metadata": {},
     "output_type": "execute_result"
    },
    {
     "data": {
      "image/png": "[encoded data removed]",
      "text/plain": [
       "<Figure size 432x288 with 1 Axes>"
      ]
     },
     "metadata": {
      "needs_background": "light"
     },
     "output_type": "display_data"
    }
   ],
   "source": [
    "#\n",
    "pca = PCA(n_components=2)\n",
    "X_pca = pca.fit_transform(X_train)\n",
    "print(pca.explained_variance_ratio_.cumsum())\n",
    "y_temp = y_train\n",
    "y_temp[\"PC1\"] = X_pca[:,0]\n",
    "y_temp[\"PC2\"] = X_pca[:,1]\n",
    "sns.scatterplot(data=y_temp, x=\"PC1\", y=\"PC2\", hue=\"is_patient\", alpha=0.4)\n",
    "# print(len(y), len(X_pca))\n",
    "#print(pca.components_)"
   ]
  },
  {
   "cell_type": "code",
   "execution_count": 311,
   "metadata": {},
   "outputs": [
    {
     "name": "stdout",
     "output_type": "stream",
     "text": [
      "   is_patient       PC1       PC2\n",
      "0         1.0 -0.203093 -0.476366\n",
      "1         1.0 -0.225383 -0.340140\n",
      "2         0.0  0.750240  0.113175\n",
      "3         1.0 -0.219966 -0.335130\n",
      "4         0.0 -0.287818  0.492670\n",
      "   is_patient\n",
      "0         1.0\n",
      "1         1.0\n",
      "2         0.0\n",
      "3         1.0\n",
      "4         0.0\n"
     ]
    }
   ],
   "source": [
    "print(y_train.head())\n",
    "y_train = y_train.drop([\"PC1\", \"PC2\"], axis=1)\n",
    "print(y_train.head())"
   ]
  },
  {
   "cell_type": "code",
   "execution_count": 312,
   "metadata": {},
   "outputs": [],
   "source": [
    "def clfFitPredict(clf, X_train, X_test, y_train, y_test):\n",
    "    clf.fit(X_train, y_train.values.ravel())\n",
    "    y_pred = clf.predict(X_test)\n",
    "    confusionMatrix(y_test, y_pred)"
   ]
  },
  {
   "cell_type": "code",
   "execution_count": 313,
   "metadata": {},
   "outputs": [],
   "source": [
    "def confusionMatrix(y_test, y_pred):\n",
    "    co = confusion_matrix(y_test, y_pred)\n",
    "    print('\\nConfusion Matrix: \\n'+str(co))\n",
    "    \n",
    "    total=co[0,0]+co[1,1]+co[0,1]+co[1,0]\n",
    "    accuracy=(co[0,0]+co[1,1])/total\n",
    "    print('\\nAccuracy : '+ str(accuracy))\n",
    "\n",
    "    sensitivity = co[0,0]/(co[0,0]+co[0,1])\n",
    "    print('Sensitivity : '+ str(sensitivity ))\n",
    "    \n",
    "    precision = co[0,0]/(co[0,0]+co[1,0])\n",
    "    print('Precision: ' + str(precision))\n",
    "\n",
    "    specificity = co[1,1]/(co[1,0]+co[1,1])\n",
    "    print('Specificity : ' + str(specificity))\n",
    "    \n",
    "    fscore = 2*precision*sensitivity/(precision+sensitivity)\n",
    "    print('F-Score : ' + str(fscore))\n",
    "    \n",
    "    print(\"\\n\",classification_report(y_test, y_pred), \"\\n\")"
   ]
  },
  {
   "cell_type": "code",
   "execution_count": 314,
   "metadata": {},
   "outputs": [],
   "source": [
    "def params(confusion_matrix):\n",
    "    co = confusion_matrix\n",
    "    print('\\nConfusion Matrix By taking mean of all individual confusion matrix folds: \\n'+str(co))\n",
    "    \n",
    "    total=co[0,0]+co[1,1]+co[0,1]+co[1,0]\n",
    "    accuracy=(co[0,0]+co[1,1])/total\n",
    "    print('\\nAccuracy : '+ str(accuracy))\n",
    "\n",
    "    sensitivity = co[0,0]/(co[0,0]+co[0,1])\n",
    "    print('Sensitivity : '+ str(sensitivity ))\n",
    "    \n",
    "    precision = co[0,0]/(co[0,0]+co[1,0])\n",
    "    print('Precision: ' + str(precision))\n",
    "\n",
    "    specificity = co[1,1]/(co[1,0]+co[1,1])\n",
    "    print('Specificity : ' + str(specificity))\n",
    "    \n",
    "    fscore = 2*precision*sensitivity/(precision+sensitivity)\n",
    "    print('F-Score : ' + str(fscore))"
   ]
  },
  {
   "cell_type": "code",
   "execution_count": 315,
   "metadata": {},
   "outputs": [],
   "source": [
    "def crossValidation(clf, X, y, folds):\n",
    "    #https://stackoverflow.com/questions/41458834/how-is-scikit-learn-cross-val-predict-accuracy-score-calculated\n",
    "    scoreclf = cross_val_score(clf, X, y.values.ravel(), cv=folds)\n",
    "    print(scoreclf,\"\\n\")\n",
    "    print(np.mean(scoreclf))\n",
    "    \n",
    "#     list_of_confmatrix = []\n",
    "#     kf = KFold(n_splits = folds)\n",
    "#     kf.get_n_splits(X)\n",
    "#     for train_index, test_index in kf.split(X):\n",
    "#         #print(\"TRAIN:\", train_index, \"TEST:\", test_index)\n",
    "#         X_train_kf, X_test_kf = X.iloc[train_index], X.iloc[test_index]\n",
    "#         y_train_kf, y_test_kf = y.iloc[train_index], y.iloc[test_index]\n",
    "#         clf.fit(X_train_kf, y_train_kf.values.ravel())\n",
    "#         confmatrix = confusion_matrix(y_test_kf, clf.predict(X_test_kf))\n",
    "#         list_of_confmatrix.append(confmatrix)\n",
    "    \n",
    "#     mean_of_confmatrix = np.mean(list_of_confmatrix, axis=0)\n",
    "#     params(mean_of_confmatrix)"
   ]
  },
  {
   "cell_type": "code",
   "execution_count": 316,
   "metadata": {},
   "outputs": [
    {
     "name": "stdout",
     "output_type": "stream",
     "text": [
      "Index(['is_patient'], dtype='object')\n"
     ]
    }
   ],
   "source": [
    "print(y_train.columns)"
   ]
  },
  {
   "cell_type": "code",
   "execution_count": 317,
   "metadata": {
    "scrolled": true
   },
   "outputs": [
    {
     "name": "stdout",
     "output_type": "stream",
     "text": [
      "\n",
      "----------------------------------------------------------------------\n",
      "\n",
      "Naive Bayes on Original dataset:\n",
      "\n",
      "Confusion Matrix: \n",
      "[[48 77]\n",
      " [ 4 46]]\n",
      "\n",
      "Accuracy : 0.5371428571428571\n",
      "Sensitivity : 0.384\n",
      "Precision: 0.9230769230769231\n",
      "Specificity : 0.92\n",
      "F-Score : 0.5423728813559322\n",
      "\n",
      "               precision    recall  f1-score   support\n",
      "\n",
      "         0.0       0.92      0.38      0.54       125\n",
      "         1.0       0.37      0.92      0.53        50\n",
      "\n",
      "    accuracy                           0.54       175\n",
      "   macro avg       0.65      0.65      0.54       175\n",
      "weighted avg       0.77      0.54      0.54       175\n",
      " \n",
      "\n",
      "\n",
      "Cross Validation of Naive Bayes on Original dataset:\n",
      "[0.60273973 0.54109589 0.52739726 0.55172414] \n",
      "\n",
      "0.5557392536608408\n",
      "\n",
      "----------------------------------------------------------------------\n",
      "\n"
     ]
    }
   ],
   "source": [
    "print(\"\\n----------------------------------------------------------------------\\n\")\n",
    "\n",
    "#1 Naive Bayes On under sample dataset\n",
    "print(\"Naive Bayes on Original dataset:\")\n",
    "clfFitPredict(GaussianNB(), X_train, X_test, y_train, y_test)\n",
    "\n",
    "#Cross Validation on Naive Bayes on under sampled datset\n",
    "print(\"\\nCross Validation of Naive Bayes on Original dataset:\")\n",
    "crossValidation(GaussianNB(), X, y, 4)\n",
    "\n",
    "print(\"\\n----------------------------------------------------------------------\\n\")"
   ]
  },
  {
   "cell_type": "code",
   "execution_count": 318,
   "metadata": {
    "scrolled": true
   },
   "outputs": [
    {
     "name": "stdout",
     "output_type": "stream",
     "text": [
      "\n",
      "----------------------------------------------------------------------\n",
      "\n",
      "SVM Classifier on Original dataset:\n",
      "\n",
      "Confusion Matrix: \n",
      "[[125   0]\n",
      " [ 48   2]]\n",
      "\n",
      "Accuracy : 0.7257142857142858\n",
      "Sensitivity : 1.0\n",
      "Precision: 0.7225433526011561\n",
      "Specificity : 0.04\n",
      "F-Score : 0.8389261744966443\n",
      "\n",
      "               precision    recall  f1-score   support\n",
      "\n",
      "         0.0       0.72      1.00      0.84       125\n",
      "         1.0       1.00      0.04      0.08        50\n",
      "\n",
      "    accuracy                           0.73       175\n",
      "   macro avg       0.86      0.52      0.46       175\n",
      "weighted avg       0.80      0.73      0.62       175\n",
      " \n",
      "\n",
      "\n",
      "Cross Validation of SVM Classifier on Original dataset:\n",
      "[0.73287671 0.70547945 0.69178082 0.73103448] \n",
      "\n",
      "0.7152928672649976\n",
      "\n",
      "----------------------------------------------------------------------\n",
      "\n"
     ]
    }
   ],
   "source": [
    "print(\"\\n----------------------------------------------------------------------\\n\")\n",
    "\n",
    "#2 SVM Classifier On the Original Dataset\n",
    "print(\"SVM Classifier on Original dataset:\")\n",
    "clfFitPredict(LinearSVC(), X_train, X_test, y_train, y_test)\n",
    "\n",
    "#Cross Validation on SVM Classifier on Orginial datset\n",
    "print(\"\\nCross Validation of SVM Classifier on Original dataset:\")\n",
    "crossValidation(LinearSVC(), X, y, 4)\n",
    "\n",
    "print(\"\\n----------------------------------------------------------------------\\n\")"
   ]
  },
  {
   "cell_type": "code",
   "execution_count": 319,
   "metadata": {
    "scrolled": true
   },
   "outputs": [
    {
     "name": "stdout",
     "output_type": "stream",
     "text": [
      "Logistic Regressor Classifier on Original dataset:\n",
      "\n",
      "Confusion Matrix: \n",
      "[[125   0]\n",
      " [ 50   0]]\n",
      "\n",
      "Accuracy : 0.7142857142857143\n",
      "Sensitivity : 1.0\n",
      "Precision: 0.7142857142857143\n",
      "Specificity : 0.0\n",
      "F-Score : 0.8333333333333333\n",
      "\n",
      "               precision    recall  f1-score   support\n",
      "\n",
      "         0.0       0.71      1.00      0.83       125\n",
      "         1.0       0.00      0.00      0.00        50\n",
      "\n",
      "    accuracy                           0.71       175\n",
      "   macro avg       0.36      0.50      0.42       175\n",
      "weighted avg       0.51      0.71      0.60       175\n",
      " \n",
      "\n",
      "\n",
      "Cross Validation of Logistic Regressor Classifier on Original dataset:\n",
      "[0.71917808 0.70547945 0.7260274  0.71724138] \n",
      "\n",
      "0.7169815777042986\n"
     ]
    },
    {
     "name": "stderr",
     "output_type": "stream",
     "text": [
      "/home/srix/anaconda3/lib/python3.7/site-packages/sklearn/metrics/_classification.py:1272: UndefinedMetricWarning: Precision and F-score are ill-defined and being set to 0.0 in labels with no predicted samples. Use `zero_division` parameter to control this behavior.\n",
      "  _warn_prf(average, modifier, msg_start, len(result))\n"
     ]
    }
   ],
   "source": [
    "#3 Logistic Regressor Classifier On the Original Dataset \n",
    "print(\"Logistic Regressor Classifier on Original dataset:\")\n",
    "clfFitPredict(LogisticRegression(), X_train, X_test, y_train, y_test)\n",
    "\n",
    "#Cross Validation on Logistic Regressor Classifier on Orginial datset\n",
    "print(\"\\nCross Validation of Logistic Regressor Classifier on Original dataset:\")\n",
    "crossValidation(LogisticRegression(), X, y, 4)"
   ]
  },
  {
   "cell_type": "code",
   "execution_count": 320,
   "metadata": {},
   "outputs": [
    {
     "name": "stdout",
     "output_type": "stream",
     "text": [
      " KNN Classifier on Original dataset:\n",
      "\n",
      "Confusion Matrix: \n",
      "[[116   9]\n",
      " [ 44   6]]\n",
      "\n",
      "Accuracy : 0.6971428571428572\n",
      "Sensitivity : 0.928\n",
      "Precision: 0.725\n",
      "Specificity : 0.12\n",
      "F-Score : 0.8140350877192983\n",
      "\n",
      "               precision    recall  f1-score   support\n",
      "\n",
      "         0.0       0.72      0.93      0.81       125\n",
      "         1.0       0.40      0.12      0.18        50\n",
      "\n",
      "    accuracy                           0.70       175\n",
      "   macro avg       0.56      0.52      0.50       175\n",
      "weighted avg       0.63      0.70      0.63       175\n",
      " \n",
      "\n",
      "\n",
      "Cross Validation of  KNN Classifier  on Original dataset:\n",
      "[0.71232877 0.65068493 0.70547945 0.71034483] \n",
      "\n",
      "0.6947094945677845\n"
     ]
    }
   ],
   "source": [
    "#4 KNN Classifier On the Original Dataset \n",
    "print(\" KNN Classifier on Original dataset:\")\n",
    "clfFitPredict(KNeighborsClassifier(n_neighbors = 2), X_train, X_test, y_train, y_test)\n",
    "\n",
    "#Cross Validation on KNN Classifier on Orginial datset\n",
    "print(\"\\nCross Validation of  KNN Classifier  on Original dataset:\")\n",
    "crossValidation(KNeighborsClassifier(n_neighbors = 2), X, y, 4)"
   ]
  },
  {
   "cell_type": "code",
   "execution_count": 321,
   "metadata": {
    "scrolled": true
   },
   "outputs": [
    {
     "name": "stdout",
     "output_type": "stream",
     "text": [
      "RandomForest Classifier on Original dataset:\n",
      "\n",
      "Confusion Matrix: \n",
      "[[121   4]\n",
      " [ 43   7]]\n",
      "\n",
      "Accuracy : 0.7314285714285714\n",
      "Sensitivity : 0.968\n",
      "Precision: 0.7378048780487805\n",
      "Specificity : 0.14\n",
      "F-Score : 0.8373702422145328\n",
      "\n",
      "               precision    recall  f1-score   support\n",
      "\n",
      "         0.0       0.74      0.97      0.84       125\n",
      "         1.0       0.64      0.14      0.23        50\n",
      "\n",
      "    accuracy                           0.73       175\n",
      "   macro avg       0.69      0.55      0.53       175\n",
      "weighted avg       0.71      0.73      0.66       175\n",
      " \n",
      "\n",
      "\n",
      "Cross Validation of  RandomForest Classifier on Original dataset:\n",
      "[0.68493151 0.70547945 0.71232877 0.71724138] \n",
      "\n",
      "0.7049952763344355\n"
     ]
    }
   ],
   "source": [
    "#5 RandomForest Classifier On the Original Dataset \n",
    "print(\"RandomForest Classifier on Original dataset:\")\n",
    "clfFitPredict(RandomForestClassifier(max_depth=4, random_state=0), X_train, X_test, y_train, y_test)\n",
    "\n",
    "#Cross Validation on RandomForest Classifier on Orginial datset\n",
    "print(\"\\nCross Validation of  RandomForest Classifier on Original dataset:\")\n",
    "crossValidation(RandomForestClassifier(max_depth=4, random_state=0), X, y, 4)"
   ]
  },
  {
   "cell_type": "code",
   "execution_count": 322,
   "metadata": {},
   "outputs": [
    {
     "name": "stdout",
     "output_type": "stream",
     "text": [
      "Voting Classifier on Original dataset:\n",
      "\n",
      "Confusion Matrix: \n",
      "[[125   0]\n",
      " [ 48   2]]\n",
      "\n",
      "Accuracy : 0.7257142857142858\n",
      "Sensitivity : 1.0\n",
      "Precision: 0.7225433526011561\n",
      "Specificity : 0.04\n",
      "F-Score : 0.8389261744966443\n",
      "\n",
      "               precision    recall  f1-score   support\n",
      "\n",
      "         0.0       0.72      1.00      0.84       125\n",
      "         1.0       1.00      0.04      0.08        50\n",
      "\n",
      "    accuracy                           0.73       175\n",
      "   macro avg       0.86      0.52      0.46       175\n",
      "weighted avg       0.80      0.73      0.62       175\n",
      " \n",
      "\n",
      "\n",
      "Cross Validation of Voting Classifier on Original dataset:\n",
      "[0.7260274  0.70547945 0.71232877 0.73103448] \n",
      "\n",
      "0.7187175247992443\n"
     ]
    }
   ],
   "source": [
    "#6 Voting Classifier for Original Dataset\n",
    "#https://scikit-learn.org/stable/modules/generated/sklearn.ensemble.VotingClassifier.html\n",
    "print(\"Voting Classifier on Original dataset:\")\n",
    "clfs = [('rf', RandomForestClassifier(max_depth=4,random_state=1)), ('lr',LogisticRegression()), ('svm',LinearSVC())]\n",
    "vclf = VotingClassifier(estimators=clfs, voting='hard')\n",
    "clfFitPredict(vclf, X_train, X_test, y_train, y_test)\n",
    "\n",
    "#Cross Validation on Voting Classifier on Orginial datset\n",
    "print(\"\\nCross Validation of Voting Classifier on Original dataset:\")\n",
    "crossValidation(vclf, X, y, 4)"
   ]
  },
  {
   "cell_type": "code",
   "execution_count": 323,
   "metadata": {
    "scrolled": true
   },
   "outputs": [
    {
     "name": "stdout",
     "output_type": "stream",
     "text": [
      "0.0    291\n",
      "1.0    117\n",
      "Name: is_patient, dtype: int64\n"
     ]
    }
   ],
   "source": [
    "print(data_norm[\"is_patient\"].value_counts())"
   ]
  },
  {
   "cell_type": "code",
   "execution_count": 324,
   "metadata": {},
   "outputs": [
    {
     "name": "stdout",
     "output_type": "stream",
     "text": [
      "\n",
      "Undersampling\n",
      "\n",
      "1.0    117\n",
      "0.0    117\n",
      "Name: is_patient, dtype: int64\n",
      "\n",
      "Oversampling\n",
      "\n",
      "1.0    291\n",
      "0.0    291\n",
      "Name: is_patient, dtype: int64\n"
     ]
    }
   ],
   "source": [
    "count_0, count_1 = data_norm[\"is_patient\"].value_counts()\n",
    "\n",
    "data_class_0 = data_norm[data_norm[\"is_patient\"]==0]\n",
    "data_class_1 = data_norm[data_norm[\"is_patient\"]==1]\n",
    "\n",
    "data_class_0_under  = data_class_0.sample(count_1)\n",
    "data_through_undersample = pd.concat([data_class_0_under, data_class_1], axis=0)\n",
    "print(\"\\nUndersampling\\n\")\n",
    "print(data_through_undersample[\"is_patient\"].value_counts())\n",
    "\n",
    "data_class_1_over  = data_class_1.sample(count_0, replace=True)\n",
    "data_through_oversample = pd.concat([data_class_0, data_class_1_over], axis=0)\n",
    "print(\"\\nOversampling\\n\")\n",
    "print(data_through_oversample[\"is_patient\"].value_counts())"
   ]
  },
  {
   "cell_type": "code",
   "execution_count": 325,
   "metadata": {},
   "outputs": [
    {
     "name": "stdout",
     "output_type": "stream",
     "text": [
      "<class 'pandas.core.frame.DataFrame'>\n",
      "Int64Index: 234 entries, 53 to 407\n",
      "Data columns (total 11 columns):\n",
      "age                 234 non-null float64\n",
      "gender              234 non-null float64\n",
      "tot_bilirubin       234 non-null float64\n",
      "direct_bilirubin    234 non-null float64\n",
      "tot_proteins        234 non-null float64\n",
      "albumin             234 non-null float64\n",
      "ag_ratio            234 non-null float64\n",
      "sgpt                234 non-null float64\n",
      "sgot                234 non-null float64\n",
      "alkphos             234 non-null float64\n",
      "is_patient          234 non-null float64\n",
      "dtypes: float64(11)\n",
      "memory usage: 21.9 KB\n",
      "None\n",
      "\n",
      "           age  gender  tot_bilirubin  direct_bilirubin  tot_proteins  \\\n",
      "53   0.666667     1.0       0.009868          0.000000      0.053249   \n",
      "382  0.604938     0.0       0.016447          0.016484      0.085491   \n",
      "343  0.345679     0.0       0.404605          0.335165      0.063996   \n",
      "269  0.592593     0.0       0.006579          0.000000      0.052760   \n",
      "193  0.493827     0.0       0.013158          0.005495      0.132877   \n",
      "\n",
      "      albumin  ag_ratio      sgpt      sgot  alkphos  is_patient  \n",
      "53   0.008543  0.004087  0.579710  0.500000     0.24         0.0  \n",
      "382  0.003518  0.001362  0.565217  0.434783     0.20         0.0  \n",
      "343  1.000000  1.000000  0.434783  0.521739     0.40         0.0  \n",
      "269  0.006030  0.002044  0.565217  0.586957     0.36         0.0  \n",
      "193  0.069347  0.025886  0.420290  0.456522     0.32         0.0  \n",
      "\n",
      "           age  gender  tot_bilirubin  direct_bilirubin  tot_proteins  \\\n",
      "399  0.814815     1.0       0.009868          0.005495      0.085002   \n",
      "401  0.753086     1.0       0.019737          0.010989      0.067904   \n",
      "403  0.629630     0.0       0.023026          0.010989      0.074255   \n",
      "404  0.456790     1.0       0.016447          0.005495      0.067416   \n",
      "407  0.172840     1.0       0.013158          0.005495      0.066439   \n",
      "\n",
      "      albumin  ag_ratio      sgpt      sgot  alkphos  is_patient  \n",
      "399  0.004020  0.006131  0.449275  0.347826    0.180         1.0  \n",
      "401  0.008040  0.001022  0.376812  0.369565    0.240         1.0  \n",
      "403  0.005528  0.001703  0.507246  0.434783    0.200         1.0  \n",
      "404  0.010553  0.004768  0.710145  0.630435    0.280         1.0  \n",
      "407  0.012060  0.007153  0.550725  0.565217    0.344         1.0  \n"
     ]
    }
   ],
   "source": [
    "print(data_through_undersample.info())\n",
    "print(\"\\n\",data_through_undersample.head())\n",
    "print(\"\\n\",data_through_undersample.tail())"
   ]
  },
  {
   "cell_type": "code",
   "execution_count": 326,
   "metadata": {},
   "outputs": [
    {
     "name": "stdout",
     "output_type": "stream",
     "text": [
      "<class 'pandas.core.frame.DataFrame'>\n",
      "Int64Index: 582 entries, 2 to 140\n",
      "Data columns (total 11 columns):\n",
      "age                 582 non-null float64\n",
      "gender              582 non-null float64\n",
      "tot_bilirubin       582 non-null float64\n",
      "direct_bilirubin    582 non-null float64\n",
      "tot_proteins        582 non-null float64\n",
      "albumin             582 non-null float64\n",
      "ag_ratio            582 non-null float64\n",
      "sgpt                582 non-null float64\n",
      "sgot                582 non-null float64\n",
      "alkphos             582 non-null float64\n",
      "is_patient          582 non-null float64\n",
      "dtypes: float64(11)\n",
      "memory usage: 54.6 KB\n",
      "None\n",
      "\n",
      "         age  gender  tot_bilirubin  direct_bilirubin  tot_proteins   albumin  \\\n",
      "2  0.271605     1.0       0.006579          0.005495      0.038593  0.001005   \n",
      "4  0.851852     0.0       0.049342          0.032967      0.824133  0.046231   \n",
      "6  0.876543     0.0       0.473684          0.489011      0.467513  0.030653   \n",
      "7  0.333333     0.0       0.029605          0.021978      0.059111  0.009548   \n",
      "8  0.790123     1.0       0.006579          0.000000      0.760625  0.042714   \n",
      "\n",
      "   ag_ratio      sgpt      sgot  alkphos  is_patient  \n",
      "2  0.007493  0.434783  0.326087     0.18         0.0  \n",
      "4  0.044619  0.405797  0.239130     0.08         0.0  \n",
      "6  0.010899  0.376812  0.282609     0.16         0.0  \n",
      "7  0.007493  0.594203  0.543478     0.28         0.0  \n",
      "8  0.039850  0.275362  0.260870     0.20         0.0  \n",
      "\n",
      "           age  gender  tot_bilirubin  direct_bilirubin  tot_proteins  \\\n",
      "56   0.432099     0.0       0.039474          0.038462      0.081583   \n",
      "262  0.209877     0.0       0.009868          0.005495      0.035173   \n",
      "238  0.296296     1.0       0.019737          0.010989      0.013190   \n",
      "225  0.308642     1.0       0.009868          0.000000      0.048363   \n",
      "140  0.395062     0.0       0.161184          0.120879      0.040059   \n",
      "\n",
      "      albumin  ag_ratio      sgpt      sgot  alkphos  is_patient  \n",
      "56   0.039196  0.021798  0.768116  0.673913     0.28         1.0  \n",
      "262  0.008543  0.005450  0.536232  0.521739     0.28         1.0  \n",
      "238  0.004020  0.033379  0.594203  0.478261     0.20         1.0  \n",
      "225  0.021106  0.010559  0.362319  0.347826     0.24         1.0  \n",
      "140  0.011055  0.027929  0.347826  0.369565     0.28         1.0  \n"
     ]
    }
   ],
   "source": [
    "print(data_through_oversample.info())\n",
    "print(\"\\n\",data_through_oversample.head())\n",
    "print(\"\\n\",data_through_oversample.tail())"
   ]
  },
  {
   "cell_type": "code",
   "execution_count": 327,
   "metadata": {},
   "outputs": [
    {
     "name": "stdout",
     "output_type": "stream",
     "text": [
      "          age  gender  tot_bilirubin  direct_bilirubin  tot_proteins  \\\n",
      "289  0.506173     1.0       0.009868          0.005495      0.043967   \n",
      "385  0.382716     0.0       0.013158          0.005495      0.105520   \n",
      "407  0.172840     1.0       0.013158          0.005495      0.066439   \n",
      "14   0.666667     0.0       0.013158          0.005495      0.029311   \n",
      "84   0.753086     0.0       0.013158          0.000000      0.040547   \n",
      "\n",
      "      albumin  ag_ratio      sgpt      sgot  alkphos  is_patient  \n",
      "289  0.015578  0.010899  0.260870  0.282609    0.240         1.0  \n",
      "385  0.005025  0.005109  0.652174  0.500000    0.200         0.0  \n",
      "407  0.012060  0.007153  0.550725  0.565217    0.344         1.0  \n",
      "14   0.023116  0.012943  0.478261  0.456522    0.280         0.0  \n",
      "84   0.003518  0.006471  0.463768  0.500000    0.352         1.0  \n",
      "\n",
      "           age  gender  tot_bilirubin  direct_bilirubin  tot_proteins  \\\n",
      "320  0.691358     0.0       0.003289          0.000000      0.213483   \n",
      "317  0.444444     0.0       0.115132          0.087912      0.140205   \n",
      "226  0.444444     0.0       0.026316          0.027473      0.068881   \n",
      "274  0.358025     0.0       0.009868          0.005495      0.094284   \n",
      "377  0.543210     0.0       0.009868          0.000000      0.765511   \n",
      "\n",
      "      albumin  ag_ratio      sgpt      sgot  alkphos  is_patient  \n",
      "320  0.005025  0.008174  0.463768  0.152174    0.028         1.0  \n",
      "317  0.472362  0.507493  0.579710  0.630435    0.400         0.0  \n",
      "226  0.006533  0.005790  0.710145  0.673913    0.320         0.0  \n",
      "274  0.005528  0.006812  0.840580  0.652174    0.200         0.0  \n",
      "377  0.032161  0.047343  0.376812  0.239130    0.120         0.0  \n"
     ]
    }
   ],
   "source": [
    "#Shuffling the dataset \n",
    "data_under = data_through_undersample.sample(frac=1, random_state=1)\n",
    "print(data_under.head())\n",
    "\n",
    "data_over = data_through_oversample.sample(frac=1, random_state=1)\n",
    "print(\"\\n\",data_over.head())"
   ]
  },
  {
   "cell_type": "code",
   "execution_count": 328,
   "metadata": {},
   "outputs": [],
   "source": [
    "#Splitting the under and over sampled dataset\n",
    "X_train_under = data_under.drop([\"is_patient\"], axis=1)\n",
    "y_train_under = data_under[[\"is_patient\"]]\n",
    "\n",
    "X_train_over = data_over.drop([\"is_patient\"], axis=1)\n",
    "y_train_over = data_over[[\"is_patient\"]]\n",
    "\n",
    "X_under = pd.concat([X_train_under, X_test], axis=0)\n",
    "y_under = pd.concat([y_train_under, y_test], axis=0)\n",
    "\n",
    "X_over = pd.concat([X_train_over, X_test], axis=0)\n",
    "y_over = pd.concat([y_train_over, y_test], axis=0)"
   ]
  },
  {
   "cell_type": "code",
   "execution_count": 329,
   "metadata": {},
   "outputs": [
    {
     "name": "stdout",
     "output_type": "stream",
     "text": [
      "Naive Bayes on Undersample dataset:\n",
      "\n",
      "Confusion Matrix: \n",
      "[[46 79]\n",
      " [ 3 47]]\n",
      "\n",
      "Accuracy : 0.5314285714285715\n",
      "Sensitivity : 0.368\n",
      "Precision: 0.9387755102040817\n",
      "Specificity : 0.94\n",
      "F-Score : 0.5287356321839081\n",
      "\n",
      "               precision    recall  f1-score   support\n",
      "\n",
      "         0.0       0.94      0.37      0.53       125\n",
      "         1.0       0.37      0.94      0.53        50\n",
      "\n",
      "    accuracy                           0.53       175\n",
      "   macro avg       0.66      0.65      0.53       175\n",
      "weighted avg       0.78      0.53      0.53       175\n",
      " \n",
      "\n",
      "\n",
      "Cross Validation of Naive Bayes on Undersample dataset:\n",
      "[0.62135922 0.65686275 0.60784314 0.60784314] \n",
      "\n",
      "0.6234770607272035\n"
     ]
    }
   ],
   "source": [
    "#1 Naive Bayes On under sample dataset\n",
    "print(\"Naive Bayes on Undersample dataset:\")\n",
    "clfFitPredict(GaussianNB(), X_train_under, X_test, y_train_under, y_test)\n",
    "\n",
    "#Cross Validation on Naive Bayes on under sampled datset\n",
    "print(\"\\nCross Validation of Naive Bayes on Undersample dataset:\")\n",
    "crossValidation(GaussianNB(), X_under, y_under, 4)"
   ]
  },
  {
   "cell_type": "code",
   "execution_count": 330,
   "metadata": {},
   "outputs": [
    {
     "name": "stdout",
     "output_type": "stream",
     "text": [
      "SVM Classifier on Undersample dataset:\n",
      "\n",
      "Confusion Matrix: \n",
      "[[67 58]\n",
      " [10 40]]\n",
      "\n",
      "Accuracy : 0.6114285714285714\n",
      "Sensitivity : 0.536\n",
      "Precision: 0.8701298701298701\n",
      "Specificity : 0.8\n",
      "F-Score : 0.6633663366336634\n",
      "\n",
      "               precision    recall  f1-score   support\n",
      "\n",
      "         0.0       0.87      0.54      0.66       125\n",
      "         1.0       0.41      0.80      0.54        50\n",
      "\n",
      "    accuracy                           0.61       175\n",
      "   macro avg       0.64      0.67      0.60       175\n",
      "weighted avg       0.74      0.61      0.63       175\n",
      " \n",
      "\n",
      "\n",
      "Cross Validation of SVM on Undersample dataset:\n",
      "[0.65048544 0.68627451 0.6372549  0.69607843] \n",
      "\n",
      "0.6675233200076147\n"
     ]
    }
   ],
   "source": [
    "#2 SVM Classifier On under sampled dataset\n",
    "print(\"SVM Classifier on Undersample dataset:\")\n",
    "clfFitPredict(LinearSVC(), X_train_under, X_test, y_train_under, y_test)\n",
    "\n",
    "#Cross Validation on SVM Classifier on under sampled datset\n",
    "print(\"\\nCross Validation of SVM on Undersample dataset:\")\n",
    "crossValidation(LinearSVC(), X_under, y_under, 4)"
   ]
  },
  {
   "cell_type": "code",
   "execution_count": 331,
   "metadata": {},
   "outputs": [
    {
     "name": "stdout",
     "output_type": "stream",
     "text": [
      "Logistic Regression on Undersample dataset:\n",
      "\n",
      "Confusion Matrix: \n",
      "[[78 47]\n",
      " [10 40]]\n",
      "\n",
      "Accuracy : 0.6742857142857143\n",
      "Sensitivity : 0.624\n",
      "Precision: 0.8863636363636364\n",
      "Specificity : 0.8\n",
      "F-Score : 0.7323943661971831\n",
      "\n",
      "               precision    recall  f1-score   support\n",
      "\n",
      "         0.0       0.89      0.62      0.73       125\n",
      "         1.0       0.46      0.80      0.58        50\n",
      "\n",
      "    accuracy                           0.67       175\n",
      "   macro avg       0.67      0.71      0.66       175\n",
      "weighted avg       0.76      0.67      0.69       175\n",
      " \n",
      "\n",
      "\n",
      "Cross Validation of Logistic Regression on Undersample dataset:\n",
      "[0.63106796 0.69607843 0.61764706 0.69607843] \n",
      "\n",
      "0.660217970683419\n"
     ]
    }
   ],
   "source": [
    "#3 Logistic Regression Classifier On under sampled dataset\n",
    "print(\"Logistic Regression on Undersample dataset:\")\n",
    "clfFitPredict(LogisticRegression(), X_train_under, X_test, y_train_under, y_test)\n",
    "\n",
    "#Cross Validation on Logistic Regression on under sampled datset\n",
    "print(\"\\nCross Validation of Logistic Regression on Undersample dataset:\")\n",
    "crossValidation(LogisticRegression(), X_under, y_under, 4)"
   ]
  },
  {
   "cell_type": "code",
   "execution_count": 332,
   "metadata": {
    "scrolled": true
   },
   "outputs": [
    {
     "name": "stdout",
     "output_type": "stream",
     "text": [
      "KNN on Undersample dataset:\n",
      "\n",
      "Confusion Matrix: \n",
      "[[92 33]\n",
      " [30 20]]\n",
      "\n",
      "Accuracy : 0.64\n",
      "Sensitivity : 0.736\n",
      "Precision: 0.7540983606557377\n",
      "Specificity : 0.4\n",
      "F-Score : 0.7449392712550607\n",
      "\n",
      "               precision    recall  f1-score   support\n",
      "\n",
      "         0.0       0.75      0.74      0.74       125\n",
      "         1.0       0.38      0.40      0.39        50\n",
      "\n",
      "    accuracy                           0.64       175\n",
      "   macro avg       0.57      0.57      0.57       175\n",
      "weighted avg       0.65      0.64      0.64       175\n",
      " \n",
      "\n",
      "\n",
      "Cross Validation of KNN on Undersample dataset:\n",
      "[0.54368932 0.54901961 0.58823529 0.66666667] \n",
      "\n",
      "0.5869027222539501\n"
     ]
    }
   ],
   "source": [
    "#4 KNN Classifier On under sampled dataset\n",
    "print(\"KNN on Undersample dataset:\")\n",
    "clfFitPredict(KNeighborsClassifier(n_neighbors = 2), X_train_under, X_test, y_train_under, y_test)\n",
    "\n",
    "#Cross Validation on KNN on under sampled datset\n",
    "print(\"\\nCross Validation of KNN on Undersample dataset:\")\n",
    "crossValidation(KNeighborsClassifier(n_neighbors = 2), X_under, y_under, 4)"
   ]
  },
  {
   "cell_type": "code",
   "execution_count": 333,
   "metadata": {},
   "outputs": [
    {
     "name": "stdout",
     "output_type": "stream",
     "text": [
      "RandomForest on Undersample dataset:\n",
      "\n",
      "Confusion Matrix: \n",
      "[[68 57]\n",
      " [10 40]]\n",
      "\n",
      "Accuracy : 0.6171428571428571\n",
      "Sensitivity : 0.544\n",
      "Precision: 0.8717948717948718\n",
      "Specificity : 0.8\n",
      "F-Score : 0.6699507389162562\n",
      "\n",
      "               precision    recall  f1-score   support\n",
      "\n",
      "         0.0       0.87      0.54      0.67       125\n",
      "         1.0       0.41      0.80      0.54        50\n",
      "\n",
      "    accuracy                           0.62       175\n",
      "   macro avg       0.64      0.67      0.61       175\n",
      "weighted avg       0.74      0.62      0.63       175\n",
      " \n",
      "\n",
      "\n",
      "Cross Validation of Random Forest on Undersample dataset:\n",
      "[0.65048544 0.71568627 0.71568627 0.62745098] \n",
      "\n",
      "0.6773272415762421\n"
     ]
    }
   ],
   "source": [
    "#5 RandomForest Classifier On under sampled dataset\n",
    "print(\"RandomForest on Undersample dataset:\")\n",
    "clfFitPredict(RandomForestClassifier(max_depth=4, random_state=0), X_train_under, X_test, y_train_under, y_test)\n",
    "\n",
    "#Cross Validation on RF on under sampled datset\n",
    "print(\"\\nCross Validation of Random Forest on Undersample dataset:\")\n",
    "crossValidation(RandomForestClassifier(max_depth=4, random_state=0), X_under, y_under, 4)"
   ]
  },
  {
   "cell_type": "code",
   "execution_count": 334,
   "metadata": {},
   "outputs": [
    {
     "name": "stdout",
     "output_type": "stream",
     "text": [
      "Voting Classifier on under sampled dataset:\n",
      "\n",
      "Confusion Matrix: \n",
      "[[67 58]\n",
      " [ 9 41]]\n",
      "\n",
      "Accuracy : 0.6171428571428571\n",
      "Sensitivity : 0.536\n",
      "Precision: 0.881578947368421\n",
      "Specificity : 0.82\n",
      "F-Score : 0.6666666666666666\n",
      "\n",
      "               precision    recall  f1-score   support\n",
      "\n",
      "         0.0       0.88      0.54      0.67       125\n",
      "         1.0       0.41      0.82      0.55        50\n",
      "\n",
      "    accuracy                           0.62       175\n",
      "   macro avg       0.65      0.68      0.61       175\n",
      "weighted avg       0.75      0.62      0.63       175\n",
      " \n",
      "\n",
      "\n",
      "Cross Validation of Voting Classifier on under sampled dataset:\n",
      "[0.65048544 0.69607843 0.62745098 0.68627451] \n",
      "\n",
      "0.6650723396154579\n"
     ]
    }
   ],
   "source": [
    "#6 Voting Classifier for UnderSampled Dataset\n",
    "print(\"Voting Classifier on under sampled dataset:\")\n",
    "clfs = [('rf', RandomForestClassifier(max_depth=4,random_state=1)), ('lr',LogisticRegression()), ('svm',LinearSVC())]\n",
    "vclf1 = VotingClassifier(estimators=clfs, voting='hard')\n",
    "clfFitPredict(vclf1, X_train_under, X_test, y_train_under, y_test)\n",
    "\n",
    "#Cross Validation on Voting Classifier on UnderSampled datset\n",
    "print(\"\\nCross Validation of Voting Classifier on under sampled dataset:\")\n",
    "crossValidation(vclf1, X_under, y_under, 4)"
   ]
  },
  {
   "cell_type": "code",
   "execution_count": 335,
   "metadata": {},
   "outputs": [
    {
     "name": "stdout",
     "output_type": "stream",
     "text": [
      "Naive Bayes on Oversample dataset:\n",
      "\n",
      "Confusion Matrix: \n",
      "[[47 78]\n",
      " [ 3 47]]\n",
      "\n",
      "Accuracy : 0.5371428571428571\n",
      "Sensitivity : 0.376\n",
      "Precision: 0.94\n",
      "Specificity : 0.94\n",
      "F-Score : 0.5371428571428571\n",
      "\n",
      "               precision    recall  f1-score   support\n",
      "\n",
      "         0.0       0.94      0.38      0.54       125\n",
      "         1.0       0.38      0.94      0.54        50\n",
      "\n",
      "    accuracy                           0.54       175\n",
      "   macro avg       0.66      0.66      0.54       175\n",
      "weighted avg       0.78      0.54      0.54       175\n",
      " \n",
      "\n",
      "\n",
      "Cross Validation of Naive Bayes on Oversample dataset:\n",
      "[0.65789474 0.68253968 0.62962963 0.63492063] \n",
      "\n",
      "0.6512461709830131\n"
     ]
    }
   ],
   "source": [
    "#1 Naive Bayes On Over sample dataset\n",
    "print(\"Naive Bayes on Oversample dataset:\")\n",
    "clfFitPredict(GaussianNB(), X_train_over, X_test, y_train_over, y_test)\n",
    "\n",
    "#Cross Validation on Naive Bayes on Over sampled datset\n",
    "print(\"\\nCross Validation of Naive Bayes on Oversample dataset:\")\n",
    "crossValidation(GaussianNB(), X_over, y_over, 4)"
   ]
  },
  {
   "cell_type": "code",
   "execution_count": 336,
   "metadata": {},
   "outputs": [
    {
     "name": "stdout",
     "output_type": "stream",
     "text": [
      "SVM Classifier on Oversample dataset:\n",
      "\n",
      "Confusion Matrix: \n",
      "[[71 54]\n",
      " [ 9 41]]\n",
      "\n",
      "Accuracy : 0.64\n",
      "Sensitivity : 0.568\n",
      "Precision: 0.8875\n",
      "Specificity : 0.82\n",
      "F-Score : 0.6926829268292682\n",
      "\n",
      "               precision    recall  f1-score   support\n",
      "\n",
      "         0.0       0.89      0.57      0.69       125\n",
      "         1.0       0.43      0.82      0.57        50\n",
      "\n",
      "    accuracy                           0.64       175\n",
      "   macro avg       0.66      0.69      0.63       175\n",
      "weighted avg       0.76      0.64      0.66       175\n",
      " \n",
      "\n",
      "\n",
      "Cross Validation of SVM Classifier on Oversample dataset:\n",
      "[0.63157895 0.65079365 0.65608466 0.71957672] \n",
      "\n",
      "0.6645084934558618\n"
     ]
    }
   ],
   "source": [
    "#2 SVM Classifier On Over sample dataset\n",
    "print(\"SVM Classifier on Oversample dataset:\")\n",
    "clfFitPredict(LinearSVC(), X_train_over, X_test, y_train_over, y_test)\n",
    "\n",
    "#Cross Validation on SVM Classifier on Over sampled datset\n",
    "print(\"\\nCross Validation of SVM Classifier on Oversample dataset:\")\n",
    "crossValidation(LinearSVC(), X_over, y_over, 4)"
   ]
  },
  {
   "cell_type": "code",
   "execution_count": 337,
   "metadata": {},
   "outputs": [
    {
     "name": "stdout",
     "output_type": "stream",
     "text": [
      "Logistic Regression Classifier on Oversample dataset:\n",
      "\n",
      "Confusion Matrix: \n",
      "[[82 43]\n",
      " [11 39]]\n",
      "\n",
      "Accuracy : 0.6914285714285714\n",
      "Sensitivity : 0.656\n",
      "Precision: 0.8817204301075269\n",
      "Specificity : 0.78\n",
      "F-Score : 0.7522935779816514\n",
      "\n",
      "               precision    recall  f1-score   support\n",
      "\n",
      "         0.0       0.88      0.66      0.75       125\n",
      "         1.0       0.48      0.78      0.59        50\n",
      "\n",
      "    accuracy                           0.69       175\n",
      "   macro avg       0.68      0.72      0.67       175\n",
      "weighted avg       0.77      0.69      0.71       175\n",
      " \n",
      "\n",
      "\n",
      "Cross Validation of Logistic Regression Classifier on Oversample dataset:\n",
      "[0.61052632 0.67195767 0.65608466 0.69312169] \n",
      "\n",
      "0.6579225842383737\n"
     ]
    }
   ],
   "source": [
    "#3 Logistic Regression Classifier On Over sample dataset\n",
    "print(\"Logistic Regression Classifier on Oversample dataset:\")\n",
    "clfFitPredict(LogisticRegression(), X_train_over, X_test, y_train_over, y_test)\n",
    "\n",
    "#Cross Validation on Logistic Regression Classifier on Over sampled datset\n",
    "print(\"\\nCross Validation of Logistic Regression Classifier on Oversample dataset:\")\n",
    "crossValidation(LogisticRegression(), X_over, y_over, 4)"
   ]
  },
  {
   "cell_type": "code",
   "execution_count": 338,
   "metadata": {},
   "outputs": [
    {
     "name": "stdout",
     "output_type": "stream",
     "text": [
      "KNN Classifier on Oversample dataset:\n",
      "\n",
      "Confusion Matrix: \n",
      "[[100  25]\n",
      " [ 34  16]]\n",
      "\n",
      "Accuracy : 0.6628571428571428\n",
      "Sensitivity : 0.8\n",
      "Precision: 0.746268656716418\n",
      "Specificity : 0.32\n",
      "F-Score : 0.7722007722007722\n",
      "\n",
      "               precision    recall  f1-score   support\n",
      "\n",
      "         0.0       0.75      0.80      0.77       125\n",
      "         1.0       0.39      0.32      0.35        50\n",
      "\n",
      "    accuracy                           0.66       175\n",
      "   macro avg       0.57      0.56      0.56       175\n",
      "weighted avg       0.64      0.66      0.65       175\n",
      " \n",
      "\n",
      "\n",
      "Cross Validation of KNN Classifier on Oversample dataset:\n",
      "[0.8        0.76190476 0.76190476 0.67195767] \n",
      "\n",
      "0.7489417989417989\n"
     ]
    }
   ],
   "source": [
    "#4 KNN Classifier On Over sample dataset\n",
    "print(\"KNN Classifier on Oversample dataset:\")\n",
    "clfFitPredict(KNeighborsClassifier(n_neighbors = 2), X_train_over, X_test, y_train_over, y_test)\n",
    "\n",
    "#Cross Validation on KNN Classifier on Over sampled datset\n",
    "print(\"\\nCross Validation of KNN Classifier on Oversample dataset:\")\n",
    "crossValidation(KNeighborsClassifier(n_neighbors = 2), X_over, y_over, 4)"
   ]
  },
  {
   "cell_type": "code",
   "execution_count": 339,
   "metadata": {},
   "outputs": [
    {
     "name": "stdout",
     "output_type": "stream",
     "text": [
      "Random Forest Classifier on Oversample dataset:\n",
      "\n",
      "Confusion Matrix: \n",
      "[[76 49]\n",
      " [15 35]]\n",
      "\n",
      "Accuracy : 0.6342857142857142\n",
      "Sensitivity : 0.608\n",
      "Precision: 0.8351648351648352\n",
      "Specificity : 0.7\n",
      "F-Score : 0.7037037037037037\n",
      "\n",
      "               precision    recall  f1-score   support\n",
      "\n",
      "         0.0       0.84      0.61      0.70       125\n",
      "         1.0       0.42      0.70      0.52        50\n",
      "\n",
      "    accuracy                           0.63       175\n",
      "   macro avg       0.63      0.65      0.61       175\n",
      "weighted avg       0.72      0.63      0.65       175\n",
      " \n",
      "\n",
      "\n",
      "Cross Validation of Random Forest Classifier on Oversample dataset:\n",
      "[0.70526316 0.77248677 0.69312169 0.70899471] \n",
      "\n",
      "0.7199665831244778\n"
     ]
    }
   ],
   "source": [
    "#5 Random Forest Classifier On Over sample dataset\n",
    "print(\"Random Forest Classifier on Oversample dataset:\")\n",
    "clfFitPredict(RandomForestClassifier(max_depth=4, random_state=0), X_train_over, X_test, y_train_over, y_test)\n",
    "\n",
    "#Cross Validation on Random Forest Classifier on Over sampled datset\n",
    "print(\"\\nCross Validation of Random Forest Classifier on Oversample dataset:\")\n",
    "crossValidation(RandomForestClassifier(max_depth=4, random_state=0), X_over, y_over, 4)"
   ]
  },
  {
   "cell_type": "code",
   "execution_count": 340,
   "metadata": {
    "scrolled": true
   },
   "outputs": [
    {
     "name": "stdout",
     "output_type": "stream",
     "text": [
      "Voting Classifier on over sampled dataset:\n",
      "\n",
      "Confusion Matrix: \n",
      "[[76 49]\n",
      " [10 40]]\n",
      "\n",
      "Accuracy : 0.6628571428571428\n",
      "Sensitivity : 0.608\n",
      "Precision: 0.8837209302325582\n",
      "Specificity : 0.8\n",
      "F-Score : 0.7203791469194313\n",
      "\n",
      "               precision    recall  f1-score   support\n",
      "\n",
      "         0.0       0.88      0.61      0.72       125\n",
      "         1.0       0.45      0.80      0.58        50\n",
      "\n",
      "    accuracy                           0.66       175\n",
      "   macro avg       0.67      0.70      0.65       175\n",
      "weighted avg       0.76      0.66      0.68       175\n",
      " \n",
      "\n",
      "\n",
      "Cross Validation of Voting Classifier on under sampled dataset:\n",
      "[0.64736842 0.68253968 0.65608466 0.71428571] \n",
      "\n",
      "0.6750696184906712\n"
     ]
    }
   ],
   "source": [
    "#6 Voting Classifier for OverSampled Dataset\n",
    "\n",
    "print(\"Voting Classifier on over sampled dataset:\")\n",
    "clfs = [('rf', RandomForestClassifier(max_depth=4,random_state=1)), ('lr',LogisticRegression()), ('svm',LinearSVC())]\n",
    "vclf = VotingClassifier(estimators=clfs, voting='hard')\n",
    "clfFitPredict(vclf, X_train_over, X_test, y_train_over, y_test)\n",
    "\n",
    "#Cross Validation on Voting Classifier on UnderSampled datset\n",
    "print(\"\\nCross Validation of Voting Classifier on under sampled dataset:\")\n",
    "crossValidation(vclf, X_over, y_over, 4)"
   ]
  },
  {
   "cell_type": "code",
   "execution_count": 341,
   "metadata": {
    "scrolled": true
   },
   "outputs": [
    {
     "name": "stdout",
     "output_type": "stream",
     "text": [
      "\n",
      "----------------------------------------------------------------------\n",
      "\n",
      "Original Training Dataset Distribution: \n",
      "\n",
      "0.0    291\n",
      "1.0    117\n",
      "Name: is_patient, dtype: int64\n",
      "\n",
      "Training Dataset Distribution After Random Under Sampling: \n",
      "\n",
      "1.0    117\n",
      "0.0    117\n",
      "dtype: int64\n",
      "\n",
      "----------------------------------------------------------------------\n",
      "\n"
     ]
    }
   ],
   "source": [
    "print(\"\\n----------------------------------------------------------------------\\n\")\n",
    "#RandomUnderSampler On the Training Dataset and testing with the unbalanced Testing Dataset\n",
    "rus1 = RandomUnderSampler(random_state=42, sampling_strategy='majority')\n",
    "X_train_rus, y_train_rus = rus1.fit_resample(X_train, y_train.values.ravel())\n",
    "print(\"Original Training Dataset Distribution: \\n\")\n",
    "print(y_train['is_patient'].value_counts())\n",
    "print(\"\\nTraining Dataset Distribution After Random Under Sampling: \\n\")\n",
    "print(pd.Series(y_train_rus).value_counts())\n",
    "X_train_rus = pd.DataFrame(X_train_rus)\n",
    "y_train_rus = pd.DataFrame(y_train_rus)\n",
    "y_train_rus = y_train_rus.rename(columns={0:\"is_patient\"})\n",
    "X_temp_rus = pd.concat([X_train_rus, y_train_rus], axis=1)\n",
    "\n",
    "#shuffling the training dataset\n",
    "X_temp_rus = X_temp_rus.sample(frac=1, random_state=1)\n",
    "\n",
    "X_train_rus  = X_temp_rus.drop([\"is_patient\"], axis=1)\n",
    "y_train_rus  = X_temp_rus[[\"is_patient\"]]\n",
    "X_rus = pd.concat([X_train_rus, X_test], axis=0)\n",
    "y_rus = pd.concat([y_train_rus, y_test], axis=0)\n",
    "\n",
    "print(\"\\n----------------------------------------------------------------------\\n\")"
   ]
  },
  {
   "cell_type": "code",
   "execution_count": 342,
   "metadata": {},
   "outputs": [
    {
     "name": "stdout",
     "output_type": "stream",
     "text": [
      "\n",
      "----------------------------------------------------------------------\n",
      "\n",
      "Naive Bayes on Random Under sampled Training dataset:\n",
      "\n",
      "Confusion Matrix: \n",
      "[[48 77]\n",
      " [ 3 47]]\n",
      "\n",
      "Accuracy : 0.5428571428571428\n",
      "Sensitivity : 0.384\n",
      "Precision: 0.9411764705882353\n",
      "Specificity : 0.94\n",
      "F-Score : 0.5454545454545454\n",
      "\n",
      "               precision    recall  f1-score   support\n",
      "\n",
      "         0.0       0.94      0.38      0.55       125\n",
      "         1.0       0.38      0.94      0.54        50\n",
      "\n",
      "    accuracy                           0.54       175\n",
      "   macro avg       0.66      0.66      0.54       175\n",
      "weighted avg       0.78      0.54      0.54       175\n",
      " \n",
      "\n",
      "\n",
      "Cross Validation of Naive Bayes on Random Undersample Training dataset:\n",
      "[0.66019417 0.6372549  0.59803922 0.61764706] \n",
      "\n",
      "0.6282838378069675\n",
      "\n",
      "----------------------------------------------------------------------\n",
      "\n"
     ]
    }
   ],
   "source": [
    "#1 Naive Bayes On Random Under Sampled Training dataset\n",
    "\n",
    "print(\"\\n----------------------------------------------------------------------\\n\")\n",
    "\n",
    "print(\"Naive Bayes on Random Under sampled Training dataset:\")\n",
    "clfFitPredict(GaussianNB(), X_train_rus, X_test, y_train_rus, y_test)\n",
    "\n",
    "#Cross Validation on Naive Bayes on Random Under Sampled Training datset\n",
    "print(\"\\nCross Validation of Naive Bayes on Random Undersample Training dataset:\")\n",
    "crossValidation(GaussianNB(), X_rus, y_rus, 4)\n",
    "\n",
    "print(\"\\n----------------------------------------------------------------------\\n\")"
   ]
  },
  {
   "cell_type": "code",
   "execution_count": 343,
   "metadata": {},
   "outputs": [
    {
     "name": "stdout",
     "output_type": "stream",
     "text": [
      "\n",
      "----------------------------------------------------------------------\n",
      "\n",
      "SVM Classifier on Random Undersample Training dataset:\n",
      "\n",
      "Confusion Matrix: \n",
      "[[66 59]\n",
      " [ 9 41]]\n",
      "\n",
      "Accuracy : 0.6114285714285714\n",
      "Sensitivity : 0.528\n",
      "Precision: 0.88\n",
      "Specificity : 0.82\n",
      "F-Score : 0.66\n",
      "\n",
      "               precision    recall  f1-score   support\n",
      "\n",
      "         0.0       0.88      0.53      0.66       125\n",
      "         1.0       0.41      0.82      0.55        50\n",
      "\n",
      "    accuracy                           0.61       175\n",
      "   macro avg       0.65      0.67      0.60       175\n",
      "weighted avg       0.75      0.61      0.63       175\n",
      " \n",
      "\n",
      "\n",
      "Cross Validation of SVM Classifier on Random Undersample Training dataset:\n",
      "[0.72815534 0.65686275 0.60784314 0.69607843] \n",
      "\n",
      "0.6722349133828289\n",
      "\n",
      "----------------------------------------------------------------------\n",
      "\n"
     ]
    }
   ],
   "source": [
    "print(\"\\n----------------------------------------------------------------------\\n\")\n",
    "\n",
    "#2 SVM Classifier On Random UnderSampled Training dataset\n",
    "print(\"SVM Classifier on Random Undersample Training dataset:\")\n",
    "clfFitPredict(LinearSVC(), X_train_rus, X_test, y_train_rus, y_test)\n",
    "\n",
    "#Cross Validation on SVM Classifier on Random Under Training sampled datset\n",
    "print(\"\\nCross Validation of SVM Classifier on Random Undersample Training dataset:\")\n",
    "crossValidation(LinearSVC(), X_rus, y_rus, 4)\n",
    "\n",
    "print(\"\\n----------------------------------------------------------------------\\n\")"
   ]
  },
  {
   "cell_type": "code",
   "execution_count": 344,
   "metadata": {},
   "outputs": [
    {
     "name": "stdout",
     "output_type": "stream",
     "text": [
      "\n",
      "----------------------------------------------------------------------\n",
      "\n",
      "Logistic Regression Classifier on Random Undersample Training dataset:\n",
      "\n",
      "Confusion Matrix: \n",
      "[[75 50]\n",
      " [ 7 43]]\n",
      "\n",
      "Accuracy : 0.6742857142857143\n",
      "Sensitivity : 0.6\n",
      "Precision: 0.9146341463414634\n",
      "Specificity : 0.86\n",
      "F-Score : 0.7246376811594203\n",
      "\n",
      "               precision    recall  f1-score   support\n",
      "\n",
      "         0.0       0.91      0.60      0.72       125\n",
      "         1.0       0.46      0.86      0.60        50\n",
      "\n",
      "    accuracy                           0.67       175\n",
      "   macro avg       0.69      0.73      0.66       175\n",
      "weighted avg       0.79      0.67      0.69       175\n",
      " \n",
      "\n",
      "\n",
      "Cross Validation of Logistic Regression Classifier on Radom Under sample Training dataset:\n",
      "[0.68932039 0.64705882 0.60784314 0.67647059] \n",
      "\n",
      "0.6551732343422807\n",
      "\n",
      "----------------------------------------------------------------------\n",
      "\n"
     ]
    }
   ],
   "source": [
    "print(\"\\n----------------------------------------------------------------------\\n\")\n",
    "\n",
    "#3 Logistic Regression Classifier On Random Undersampled Training dataset\n",
    "print(\"Logistic Regression Classifier on Random Undersample Training dataset:\")\n",
    "clfFitPredict(LogisticRegression(), X_train_rus, X_test, y_train_rus, y_test)\n",
    "\n",
    "#Cross Validation on Logistic Regression Classifier on Random Under sampled Training datset\n",
    "print(\"\\nCross Validation of Logistic Regression Classifier on Radom Under sample Training dataset:\")\n",
    "crossValidation(LogisticRegression(), X_rus, y_rus, 4)\n",
    "\n",
    "print(\"\\n----------------------------------------------------------------------\\n\")"
   ]
  },
  {
   "cell_type": "code",
   "execution_count": 345,
   "metadata": {},
   "outputs": [
    {
     "name": "stdout",
     "output_type": "stream",
     "text": [
      "\n",
      "----------------------------------------------------------------------\n",
      "\n",
      "KNN Classifier on Random Undersample Training dataset:\n",
      "\n",
      "Confusion Matrix: \n",
      "[[91 34]\n",
      " [28 22]]\n",
      "\n",
      "Accuracy : 0.6457142857142857\n",
      "Sensitivity : 0.728\n",
      "Precision: 0.7647058823529411\n",
      "Specificity : 0.44\n",
      "F-Score : 0.7459016393442623\n",
      "\n",
      "               precision    recall  f1-score   support\n",
      "\n",
      "         0.0       0.76      0.73      0.75       125\n",
      "         1.0       0.39      0.44      0.42        50\n",
      "\n",
      "    accuracy                           0.65       175\n",
      "   macro avg       0.58      0.58      0.58       175\n",
      "weighted avg       0.66      0.65      0.65       175\n",
      " \n",
      "\n",
      "\n",
      "Cross Validation of KNN Classifier on Random Undersample Training dataset:\n",
      "[0.60194175 0.56862745 0.60784314 0.64705882] \n",
      "\n",
      "0.6063677898343803\n",
      "\n",
      "----------------------------------------------------------------------\n",
      "\n"
     ]
    }
   ],
   "source": [
    "print(\"\\n----------------------------------------------------------------------\\n\")\n",
    "\n",
    "#4 KNN Classifier On Random Under Sample Training dataset\n",
    "print(\"KNN Classifier on Random Undersample Training dataset:\")\n",
    "clfFitPredict(KNeighborsClassifier(n_neighbors = 2), X_train_rus, X_test, y_train_rus, y_test)\n",
    "\n",
    "\n",
    "#Cross Validation on KNN Classifier on Random Under sampled Training datset\n",
    "print(\"\\nCross Validation of KNN Classifier on Random Undersample Training dataset:\")\n",
    "crossValidation(KNeighborsClassifier(n_neighbors = 2), X_rus, y_rus, 4)\n",
    "\n",
    "print(\"\\n----------------------------------------------------------------------\\n\")"
   ]
  },
  {
   "cell_type": "code",
   "execution_count": 346,
   "metadata": {},
   "outputs": [
    {
     "name": "stdout",
     "output_type": "stream",
     "text": [
      "\n",
      "----------------------------------------------------------------------\n",
      "\n",
      "Random Forest Classifier on Random Undersample training dataset:\n",
      "\n",
      "Confusion Matrix: \n",
      "[[66 59]\n",
      " [ 9 41]]\n",
      "\n",
      "Accuracy : 0.6114285714285714\n",
      "Sensitivity : 0.528\n",
      "Precision: 0.88\n",
      "Specificity : 0.82\n",
      "F-Score : 0.66\n",
      "\n",
      "               precision    recall  f1-score   support\n",
      "\n",
      "         0.0       0.88      0.53      0.66       125\n",
      "         1.0       0.41      0.82      0.55        50\n",
      "\n",
      "    accuracy                           0.61       175\n",
      "   macro avg       0.65      0.67      0.60       175\n",
      "weighted avg       0.75      0.61      0.63       175\n",
      " \n",
      "\n",
      "\n",
      "Cross Validation of Random Forest Classifier on Random Undersample Training dataset:\n",
      "[0.75728155 0.69607843 0.62745098 0.62745098] \n",
      "\n",
      "0.6770654863887302\n",
      "\n",
      "----------------------------------------------------------------------\n",
      "\n"
     ]
    }
   ],
   "source": [
    "print(\"\\n----------------------------------------------------------------------\\n\")\n",
    "\n",
    "#5 Random Forest Classifier On Random Under sample Training dataset\n",
    "print(\"Random Forest Classifier on Random Undersample training dataset:\")\n",
    "clfFitPredict(RandomForestClassifier(max_depth=4, random_state=0), X_train_rus, X_test, y_train_rus, y_test)\n",
    "\n",
    "#Cross Validation on Random Forest Classifier on Random under sampled Training datset\n",
    "print(\"\\nCross Validation of Random Forest Classifier on Random Undersample Training dataset:\")\n",
    "crossValidation(RandomForestClassifier(max_depth=4, random_state=0), X_rus, y_rus, 4)\n",
    "\n",
    "print(\"\\n----------------------------------------------------------------------\\n\")"
   ]
  },
  {
   "cell_type": "code",
   "execution_count": 347,
   "metadata": {},
   "outputs": [
    {
     "name": "stdout",
     "output_type": "stream",
     "text": [
      "\n",
      "----------------------------------------------------------------------\n",
      "\n",
      "Voting Classifier on Random Under sampled Training dataset:\n",
      "\n",
      "Confusion Matrix: \n",
      "[[75 50]\n",
      " [11 39]]\n",
      "\n",
      "Accuracy : 0.6514285714285715\n",
      "Sensitivity : 0.6\n",
      "Precision: 0.872093023255814\n",
      "Specificity : 0.78\n",
      "F-Score : 0.7109004739336493\n",
      "\n",
      "               precision    recall  f1-score   support\n",
      "\n",
      "         0.0       0.87      0.60      0.71       125\n",
      "         1.0       0.44      0.78      0.56        50\n",
      "\n",
      "    accuracy                           0.65       175\n",
      "   macro avg       0.66      0.69      0.64       175\n",
      "weighted avg       0.75      0.65      0.67       175\n",
      " \n",
      "\n",
      "\n",
      "Cross Validation of Voting Classifier on Random under sampled Training dataset:\n",
      "[0.70873786 0.62745098 0.57843137 0.66666667] \n",
      "\n",
      "0.6453217209213783\n",
      "\n",
      "----------------------------------------------------------------------\n",
      "\n"
     ]
    }
   ],
   "source": [
    "print(\"\\n----------------------------------------------------------------------\\n\")\n",
    "\n",
    "#6 Voting Classifier for Radnom UnderSampled Training Dataset\n",
    "\n",
    "print(\"Voting Classifier on Random Under sampled Training dataset:\")\n",
    "clfs = [('rf', RandomForestClassifier(max_depth=4,random_state=1)), ('lr',LogisticRegression()), \n",
    "        ('svm',LinearSVC()), ('knn', KNeighborsClassifier(n_neighbors = 2))]\n",
    "vclf = VotingClassifier(estimators=clfs, voting='hard')\n",
    "clfFitPredict(vclf, X_train_rus, X_test, y_train_rus, y_test)\n",
    "\n",
    "#Cross Validation on Voting Classifier on Random UnderSampled Training datset\n",
    "print(\"\\nCross Validation of Voting Classifier on Random under sampled Training dataset:\")\n",
    "crossValidation(vclf, X_rus, y_rus, 4)\n",
    "\n",
    "print(\"\\n----------------------------------------------------------------------\\n\")"
   ]
  },
  {
   "cell_type": "code",
   "execution_count": 348,
   "metadata": {},
   "outputs": [
    {
     "name": "stdout",
     "output_type": "stream",
     "text": [
      "\n",
      "----------------------------------------------------------------------\n",
      "\n",
      "Original Training Dataset Distribution: \n",
      "\n",
      "0.0    291\n",
      "1.0    117\n",
      "Name: is_patient, dtype: int64\n",
      "\n",
      "Training Dataset Distribution After Random Over Sampling: \n",
      "\n",
      "0.0    291\n",
      "1.0    291\n",
      "dtype: int64\n",
      "\n",
      "----------------------------------------------------------------------\n",
      "\n"
     ]
    }
   ],
   "source": [
    "print(\"\\n----------------------------------------------------------------------\\n\")\n",
    "\n",
    "#RandomOverSampler On the Training Dataset\n",
    "ros = RandomOverSampler(random_state=42, sampling_strategy='minority')\n",
    "X_train_ros, y_train_ros = ros.fit_resample(X_train, y_train.values.ravel())\n",
    "print(\"Original Training Dataset Distribution: \\n\")\n",
    "print(y_train['is_patient'].value_counts())\n",
    "print(\"\\nTraining Dataset Distribution After Random Over Sampling: \\n\")\n",
    "print(pd.Series(y_train_ros).value_counts())\n",
    "X_train_ros = pd.DataFrame(X_train_ros)\n",
    "y_train_ros = pd.DataFrame(y_train_ros)\n",
    "y_train_ros = y_train_ros.rename(columns={0:\"is_patient\"})\n",
    "X_temp_ros = pd.concat([X_train_ros, y_train_ros], axis=1)\n",
    "#shuffling the training dataset\n",
    "X_temp_ros = X_temp_ros.sample(frac=1, random_state=1)\n",
    "X_train_ros  = X_temp_ros.drop([\"is_patient\"], axis=1)\n",
    "y_train_ros  = X_temp_ros[[\"is_patient\"]]\n",
    "X_ros = pd.concat([X_train_ros, X_test], axis=0)\n",
    "y_ros = pd.concat([y_train_ros, y_test], axis=0)\n",
    "\n",
    "print(\"\\n----------------------------------------------------------------------\\n\")"
   ]
  },
  {
   "cell_type": "code",
   "execution_count": 349,
   "metadata": {},
   "outputs": [
    {
     "name": "stdout",
     "output_type": "stream",
     "text": [
      "\n",
      "----------------------------------------------------------------------\n",
      "\n",
      "Naive Bayes on Random Over sampled dataset:\n",
      "\n",
      "Confusion Matrix: \n",
      "[[47 78]\n",
      " [ 3 47]]\n",
      "\n",
      "Accuracy : 0.5371428571428571\n",
      "Sensitivity : 0.376\n",
      "Precision: 0.94\n",
      "Specificity : 0.94\n",
      "F-Score : 0.5371428571428571\n",
      "\n",
      "               precision    recall  f1-score   support\n",
      "\n",
      "         0.0       0.94      0.38      0.54       125\n",
      "         1.0       0.38      0.94      0.54        50\n",
      "\n",
      "    accuracy                           0.54       175\n",
      "   macro avg       0.66      0.66      0.54       175\n",
      "weighted avg       0.78      0.54      0.54       175\n",
      " \n",
      "\n",
      "\n",
      "Cross Validation of Naive Bayes on Random Over sampled dataset:\n",
      "[0.66842105 0.64550265 0.65608466 0.64021164] \n",
      "\n",
      "0.6525549986076302\n",
      "\n",
      "----------------------------------------------------------------------\n",
      "\n"
     ]
    }
   ],
   "source": [
    "print(\"\\n----------------------------------------------------------------------\\n\")\n",
    "\n",
    "#1 Naive Bayes On Random Over sampled Training dataset\n",
    "print(\"Naive Bayes on Random Over sampled dataset:\")\n",
    "clfFitPredict(GaussianNB(), X_train_ros, X_test, y_train_ros, y_test)\n",
    "\n",
    "#Cross Validation on Naive Bayes on Random Over sampled datset\n",
    "print(\"\\nCross Validation of Naive Bayes on Random Over sampled dataset:\")\n",
    "crossValidation(GaussianNB(), X_ros, y_ros, 4)\n",
    "\n",
    "print(\"\\n----------------------------------------------------------------------\\n\")"
   ]
  },
  {
   "cell_type": "code",
   "execution_count": 350,
   "metadata": {},
   "outputs": [
    {
     "name": "stdout",
     "output_type": "stream",
     "text": [
      "\n",
      "----------------------------------------------------------------------\n",
      "\n",
      "SVM Classifier on Random Oversample Training dataset:\n",
      "\n",
      "Confusion Matrix: \n",
      "[[66 59]\n",
      " [10 40]]\n",
      "\n",
      "Accuracy : 0.6057142857142858\n",
      "Sensitivity : 0.528\n",
      "Precision: 0.868421052631579\n",
      "Specificity : 0.8\n",
      "F-Score : 0.6567164179104478\n",
      "\n",
      "               precision    recall  f1-score   support\n",
      "\n",
      "         0.0       0.87      0.53      0.66       125\n",
      "         1.0       0.40      0.80      0.54        50\n",
      "\n",
      "    accuracy                           0.61       175\n",
      "   macro avg       0.64      0.66      0.60       175\n",
      "weighted avg       0.74      0.61      0.62       175\n",
      " \n",
      "\n",
      "\n",
      "Cross Validation of SVM Classifier on Random Oversampled Training dataset:\n",
      "[0.7        0.6984127  0.67195767 0.71428571] \n",
      "\n",
      "0.6961640211640212\n",
      "\n",
      "----------------------------------------------------------------------\n",
      "\n"
     ]
    }
   ],
   "source": [
    "print(\"\\n----------------------------------------------------------------------\\n\")\n",
    "\n",
    "#2 SVM Classifier On Random OverSampled Training dataset\n",
    "print(\"SVM Classifier on Random Oversample Training dataset:\")\n",
    "clfFitPredict(LinearSVC(), X_train_ros, X_test, y_train_ros, y_test)\n",
    "\n",
    "#Cross Validation on SVM Classifier on Random Oversampled datset\n",
    "print(\"\\nCross Validation of SVM Classifier on Random Oversampled Training dataset:\")\n",
    "crossValidation(LinearSVC(), X_ros, y_ros, 4)\n",
    "\n",
    "print(\"\\n----------------------------------------------------------------------\\n\")"
   ]
  },
  {
   "cell_type": "code",
   "execution_count": 351,
   "metadata": {},
   "outputs": [
    {
     "name": "stdout",
     "output_type": "stream",
     "text": [
      "\n",
      "----------------------------------------------------------------------\n",
      "\n",
      "Logistic Regression Classifier on Random Oversample Training dataset:\n",
      "\n",
      "Confusion Matrix: \n",
      "[[75 50]\n",
      " [11 39]]\n",
      "\n",
      "Accuracy : 0.6514285714285715\n",
      "Sensitivity : 0.6\n",
      "Precision: 0.872093023255814\n",
      "Specificity : 0.78\n",
      "F-Score : 0.7109004739336493\n",
      "\n",
      "               precision    recall  f1-score   support\n",
      "\n",
      "         0.0       0.87      0.60      0.71       125\n",
      "         1.0       0.44      0.78      0.56        50\n",
      "\n",
      "    accuracy                           0.65       175\n",
      "   macro avg       0.66      0.69      0.64       175\n",
      "weighted avg       0.75      0.65      0.67       175\n",
      " \n",
      "\n",
      "\n",
      "Cross Validation of Logistic Regression Classifier on Random Oversampled Training dataset:\n",
      "[0.67368421 0.68783069 0.61904762 0.70899471] \n",
      "\n",
      "0.6723893065998329\n",
      "\n",
      "----------------------------------------------------------------------\n",
      "\n"
     ]
    }
   ],
   "source": [
    "print(\"\\n----------------------------------------------------------------------\\n\")\n",
    "\n",
    "#3 Logistic Regression Classifier On Random Over Sampled Training  dataset\n",
    "print(\"Logistic Regression Classifier on Random Oversample Training dataset:\")\n",
    "clfFitPredict(LogisticRegression(), X_train_ros, X_test, y_train_ros, y_test)\n",
    "\n",
    "#Cross Validation on Logistic Regression Classifier on Random Over Sampled Training datset\n",
    "print(\"\\nCross Validation of Logistic Regression Classifier on Random Oversampled Training dataset:\")\n",
    "crossValidation(LogisticRegression(), X_ros, y_ros, 4)\n",
    "\n",
    "print(\"\\n----------------------------------------------------------------------\\n\")"
   ]
  },
  {
   "cell_type": "code",
   "execution_count": 352,
   "metadata": {},
   "outputs": [
    {
     "name": "stdout",
     "output_type": "stream",
     "text": [
      "\n",
      "----------------------------------------------------------------------\n",
      "\n",
      "KNN Classifier on Random Oversample Training dataset:\n",
      "\n",
      "Confusion Matrix: \n",
      "[[97 28]\n",
      " [33 17]]\n",
      "\n",
      "Accuracy : 0.6514285714285715\n",
      "Sensitivity : 0.776\n",
      "Precision: 0.7461538461538462\n",
      "Specificity : 0.34\n",
      "F-Score : 0.7607843137254902\n",
      "\n",
      "               precision    recall  f1-score   support\n",
      "\n",
      "         0.0       0.75      0.78      0.76       125\n",
      "         1.0       0.38      0.34      0.36        50\n",
      "\n",
      "    accuracy                           0.65       175\n",
      "   macro avg       0.56      0.56      0.56       175\n",
      "weighted avg       0.64      0.65      0.65       175\n",
      " \n",
      "\n",
      "\n",
      "Cross Validation of KNN Classifier on Random Oversample Training dataset:\n",
      "[0.72631579 0.75661376 0.75661376 0.67724868] \n",
      "\n",
      "0.7291979949874687\n",
      "\n",
      "----------------------------------------------------------------------\n",
      "\n"
     ]
    }
   ],
   "source": [
    "print(\"\\n----------------------------------------------------------------------\\n\")\n",
    "\n",
    "#4 KNN Classifier On Randm Oversampled Training dataset\n",
    "print(\"KNN Classifier on Random Oversample Training dataset:\")\n",
    "clfFitPredict(KNeighborsClassifier(n_neighbors = 2), X_train_ros, X_test, y_train_ros, y_test)\n",
    "\n",
    "#Cross Validation on KNN Classifier on Random Over sampled Training datset\n",
    "print(\"\\nCross Validation of KNN Classifier on Random Oversample Training dataset:\")\n",
    "crossValidation(KNeighborsClassifier(n_neighbors = 2), X_ros, y_ros, 4)\n",
    "\n",
    "print(\"\\n----------------------------------------------------------------------\\n\")"
   ]
  },
  {
   "cell_type": "code",
   "execution_count": 353,
   "metadata": {},
   "outputs": [
    {
     "name": "stdout",
     "output_type": "stream",
     "text": [
      "\n",
      "----------------------------------------------------------------------\n",
      "\n",
      "Random Forest Classifier on Random Oversample Training dataset:\n",
      "\n",
      "Confusion Matrix: \n",
      "[[74 51]\n",
      " [11 39]]\n",
      "\n",
      "Accuracy : 0.6457142857142857\n",
      "Sensitivity : 0.592\n",
      "Precision: 0.8705882352941177\n",
      "Specificity : 0.78\n",
      "F-Score : 0.7047619047619046\n",
      "\n",
      "               precision    recall  f1-score   support\n",
      "\n",
      "         0.0       0.87      0.59      0.70       125\n",
      "         1.0       0.43      0.78      0.56        50\n",
      "\n",
      "    accuracy                           0.65       175\n",
      "   macro avg       0.65      0.69      0.63       175\n",
      "weighted avg       0.75      0.65      0.66       175\n",
      " \n",
      "\n",
      "\n",
      "Cross Validation of Random Forest Classifier on Random Oversample Training dataset:\n",
      "[0.74736842 0.75132275 0.74074074 0.6984127 ] \n",
      "\n",
      "0.7344611528822056\n",
      "\n",
      "----------------------------------------------------------------------\n",
      "\n"
     ]
    }
   ],
   "source": [
    "print(\"\\n----------------------------------------------------------------------\\n\")\n",
    "\n",
    "#5 Random Forest Classifier On Random Over Sampled Training dataset\n",
    "print(\"Random Forest Classifier on Random Oversample Training dataset:\")\n",
    "clfFitPredict(RandomForestClassifier(max_depth=4, random_state=0), X_train_ros, X_test, y_train_ros, y_test)\n",
    "\n",
    "#Cross Validation on Random Forest Classifier on Radnom Over Sampled Training datset\n",
    "print(\"\\nCross Validation of Random Forest Classifier on Random Oversample Training dataset:\")\n",
    "crossValidation(RandomForestClassifier(max_depth=4, random_state=0), X_ros, y_ros, 4)\n",
    "\n",
    "print(\"\\n----------------------------------------------------------------------\\n\")"
   ]
  },
  {
   "cell_type": "code",
   "execution_count": 354,
   "metadata": {},
   "outputs": [
    {
     "name": "stdout",
     "output_type": "stream",
     "text": [
      "\n",
      "----------------------------------------------------------------------\n",
      "\n",
      "Voting Classifier on Random Over sampled Training dataset:\n",
      "\n",
      "Confusion Matrix: \n",
      "[[70 55]\n",
      " [11 39]]\n",
      "\n",
      "Accuracy : 0.6228571428571429\n",
      "Sensitivity : 0.56\n",
      "Precision: 0.8641975308641975\n",
      "Specificity : 0.78\n",
      "F-Score : 0.6796116504854369\n",
      "\n",
      "               precision    recall  f1-score   support\n",
      "\n",
      "         0.0       0.86      0.56      0.68       125\n",
      "         1.0       0.41      0.78      0.54        50\n",
      "\n",
      "    accuracy                           0.62       175\n",
      "   macro avg       0.64      0.67      0.61       175\n",
      "weighted avg       0.74      0.62      0.64       175\n",
      " \n",
      "\n",
      "\n",
      "Cross Validation of Voting Classifier on Random Over sampled Training dataset:\n",
      "[0.70526316 0.71428571 0.67195767 0.71957672] \n",
      "\n",
      "0.7027708159287107\n",
      "\n",
      "----------------------------------------------------------------------\n",
      "\n"
     ]
    }
   ],
   "source": [
    "print(\"\\n----------------------------------------------------------------------\\n\")\n",
    "\n",
    "#6 Voting Classifier for Random OverSampled Training Dataset\n",
    "print(\"Voting Classifier on Random Over sampled Training dataset:\")\n",
    "clfs = [('rf', RandomForestClassifier(max_depth=4,random_state=1)), ('lr',LogisticRegression()), ('svm',LinearSVC())]\n",
    "vclf = VotingClassifier(estimators=clfs, voting='hard')\n",
    "clfFitPredict(vclf, X_train_ros, X_test, y_train_ros, y_test)\n",
    "\n",
    "#Cross Validation on Voting Classifier on Random OverSampled Training datset\n",
    "print(\"\\nCross Validation of Voting Classifier on Random Over sampled Training dataset:\")\n",
    "crossValidation(vclf, X_ros, y_ros, 4)\n",
    "\n",
    "print(\"\\n----------------------------------------------------------------------\\n\")"
   ]
  },
  {
   "cell_type": "code",
   "execution_count": 355,
   "metadata": {},
   "outputs": [
    {
     "name": "stdout",
     "output_type": "stream",
     "text": [
      "\n",
      "----------------------------------------------------------------------\n",
      "\n",
      "Original Training Dataset Distribution \n",
      "\n",
      "0.0    291\n",
      "1.0    117\n",
      "Name: is_patient, dtype: int64\n",
      "\n",
      "Training Dataset Distribution After TomekLinks UnderSampling\n",
      "\n",
      "0.0    256\n",
      "1.0    117\n",
      "dtype: int64\n",
      "\n",
      "----------------------------------------------------------------------\n",
      "\n"
     ]
    }
   ],
   "source": [
    "print(\"\\n----------------------------------------------------------------------\\n\")\n",
    "\n",
    "#TomekLinks UnderSampling on Training Datasets\n",
    "tl1 = TomekLinks(sampling_strategy='majority')\n",
    "X_train_tl1, y_train_tl1 = tl1.fit_resample(X_train, y_train.values.ravel())\n",
    "print(\"Original Training Dataset Distribution \\n\")\n",
    "print(y_train[\"is_patient\"].value_counts())\n",
    "print(\"\\nTraining Dataset Distribution After TomekLinks UnderSampling\\n\")\n",
    "print(pd.Series(y_train_tl1).value_counts())\n",
    "X_train_tl1 = pd.DataFrame(X_train_tl1)\n",
    "y_train_tl1 = pd.DataFrame(y_train_tl1)\n",
    "y_train_tl1 = y_train_tl1.rename(columns={0:\"is_patient\"})\n",
    "X_tl1 = pd.concat([X_train_tl1, X_test], axis=0)\n",
    "y_tl1 = pd.concat([y_train_tl1, y_test], axis=0)\n",
    "\n",
    "print(\"\\n----------------------------------------------------------------------\\n\")"
   ]
  },
  {
   "cell_type": "code",
   "execution_count": 356,
   "metadata": {},
   "outputs": [
    {
     "name": "stdout",
     "output_type": "stream",
     "text": [
      "\n",
      "----------------------------------------------------------------------\n",
      "\n",
      "Naive Bayes on TomekLinks Under sampled Training dataset:\n",
      "\n",
      "Confusion Matrix: \n",
      "[[48 77]\n",
      " [ 3 47]]\n",
      "\n",
      "Accuracy : 0.5428571428571428\n",
      "Sensitivity : 0.384\n",
      "Precision: 0.9411764705882353\n",
      "Specificity : 0.94\n",
      "F-Score : 0.5454545454545454\n",
      "\n",
      "               precision    recall  f1-score   support\n",
      "\n",
      "         0.0       0.94      0.38      0.55       125\n",
      "         1.0       0.38      0.94      0.54        50\n",
      "\n",
      "    accuracy                           0.54       175\n",
      "   macro avg       0.66      0.66      0.54       175\n",
      "weighted avg       0.78      0.54      0.54       175\n",
      " \n",
      "\n",
      "\n",
      "Cross Validation of Naive Bayes on Random Under sampled Training dataset:\n",
      "[0.6350365  0.58394161 0.57664234 0.54014599] \n",
      "\n",
      "0.583941605839416\n",
      "\n",
      "----------------------------------------------------------------------\n",
      "\n"
     ]
    }
   ],
   "source": [
    "print(\"\\n----------------------------------------------------------------------\\n\")\n",
    "\n",
    "#1.1 Naive Bayes On TomekLinks Under Sampled Training dataset\n",
    "print(\"Naive Bayes on TomekLinks Under sampled Training dataset:\")\n",
    "clfFitPredict(GaussianNB(), X_train_tl1, X_test, y_train_tl1, y_test)\n",
    "\n",
    "#Cross Validation on Naive Bayes on Random Under sampled Training datset\n",
    "print(\"\\nCross Validation of Naive Bayes on Random Under sampled Training dataset:\")\n",
    "crossValidation(GaussianNB(), X_tl1, y_tl1, 4)\n",
    "\n",
    "print(\"\\n----------------------------------------------------------------------\\n\")"
   ]
  },
  {
   "cell_type": "code",
   "execution_count": 357,
   "metadata": {},
   "outputs": [
    {
     "name": "stdout",
     "output_type": "stream",
     "text": [
      "\n",
      "----------------------------------------------------------------------\n",
      "\n",
      "SVM Classifier on TomekLinks Undersample Training dataset:\n",
      "\n",
      "Confusion Matrix: \n",
      "[[119   6]\n",
      " [ 43   7]]\n",
      "\n",
      "Accuracy : 0.72\n",
      "Sensitivity : 0.952\n",
      "Precision: 0.7345679012345679\n",
      "Specificity : 0.14\n",
      "F-Score : 0.8292682926829268\n",
      "\n",
      "               precision    recall  f1-score   support\n",
      "\n",
      "         0.0       0.73      0.95      0.83       125\n",
      "         1.0       0.54      0.14      0.22        50\n",
      "\n",
      "    accuracy                           0.72       175\n",
      "   macro avg       0.64      0.55      0.53       175\n",
      "weighted avg       0.68      0.72      0.66       175\n",
      " \n",
      "\n",
      "\n",
      "Cross Validation of SVM Classifier on TomekLinks Undersample dataset:\n",
      "[0.70072993 0.68613139 0.70072993 0.73722628] \n",
      "\n",
      "0.7062043795620438\n",
      "\n",
      "----------------------------------------------------------------------\n",
      "\n"
     ]
    }
   ],
   "source": [
    "print(\"\\n----------------------------------------------------------------------\\n\")\n",
    "\n",
    "#2.1 SVM Classifier On TomekLinks UnderSampled Training dataset\n",
    "print(\"SVM Classifier on TomekLinks Undersample Training dataset:\")\n",
    "clfFitPredict(LinearSVC(), X_train_tl1, X_test, y_train_tl1, y_test)\n",
    "\n",
    "#Cross Validation on SVM Classifier on TomekLinks Under sampled datset\n",
    "print(\"\\nCross Validation of SVM Classifier on TomekLinks Undersample dataset:\")\n",
    "crossValidation(LinearSVC(), X_tl1, y_tl1, 4)\n",
    "\n",
    "print(\"\\n----------------------------------------------------------------------\\n\")"
   ]
  },
  {
   "cell_type": "code",
   "execution_count": 358,
   "metadata": {},
   "outputs": [
    {
     "name": "stdout",
     "output_type": "stream",
     "text": [
      "\n",
      "----------------------------------------------------------------------\n",
      "\n",
      "Logistic Regression Classifier on TomekLinks Undersample Training dataset:\n",
      "\n",
      "Confusion Matrix: \n",
      "[[125   0]\n",
      " [ 48   2]]\n",
      "\n",
      "Accuracy : 0.7257142857142858\n",
      "Sensitivity : 1.0\n",
      "Precision: 0.7225433526011561\n",
      "Specificity : 0.04\n",
      "F-Score : 0.8389261744966443\n",
      "\n",
      "               precision    recall  f1-score   support\n",
      "\n",
      "         0.0       0.72      1.00      0.84       125\n",
      "         1.0       1.00      0.04      0.08        50\n",
      "\n",
      "    accuracy                           0.73       175\n",
      "   macro avg       0.86      0.52      0.46       175\n",
      "weighted avg       0.80      0.73      0.62       175\n",
      " \n",
      "\n",
      "\n",
      "Cross Validation of Logistic Regression Classifier on TomekLinks Under sample Training dataset:\n",
      "[0.70072993 0.68613139 0.68613139 0.70072993] \n",
      "\n",
      "0.6934306569343066\n",
      "\n",
      "----------------------------------------------------------------------\n",
      "\n"
     ]
    }
   ],
   "source": [
    "print(\"\\n----------------------------------------------------------------------\\n\")\n",
    "\n",
    "#3 Logistic Regression Classifier On TomekLinks Undersampled Training dataset\n",
    "print(\"Logistic Regression Classifier on TomekLinks Undersample Training dataset:\")\n",
    "clfFitPredict(LogisticRegression(), X_train_tl1, X_test, y_train_tl1, y_test)\n",
    "\n",
    "#Cross Validation on Logistic Regression Classifier on TomekLinks Under Sampled Training datset\n",
    "print(\"\\nCross Validation of Logistic Regression Classifier on TomekLinks Under sample Training dataset:\")\n",
    "crossValidation(LogisticRegression(), X_tl1, y_tl1, 4)\n",
    "\n",
    "print(\"\\n----------------------------------------------------------------------\\n\")"
   ]
  },
  {
   "cell_type": "code",
   "execution_count": 359,
   "metadata": {},
   "outputs": [
    {
     "name": "stdout",
     "output_type": "stream",
     "text": [
      "\n",
      "----------------------------------------------------------------------\n",
      "\n",
      "KNN Classifier on TomekLinks Undersample Training dataset:\n",
      "\n",
      "Confusion Matrix: \n",
      "[[109  16]\n",
      " [ 39  11]]\n",
      "\n",
      "Accuracy : 0.6857142857142857\n",
      "Sensitivity : 0.872\n",
      "Precision: 0.7364864864864865\n",
      "Specificity : 0.22\n",
      "F-Score : 0.7985347985347986\n",
      "\n",
      "               precision    recall  f1-score   support\n",
      "\n",
      "         0.0       0.74      0.87      0.80       125\n",
      "         1.0       0.41      0.22      0.29        50\n",
      "\n",
      "    accuracy                           0.69       175\n",
      "   macro avg       0.57      0.55      0.54       175\n",
      "weighted avg       0.64      0.69      0.65       175\n",
      " \n",
      "\n",
      "\n",
      "Cross Validation of KNN Classifier on TomekLinks Undersample Training dataset:\n",
      "[0.73722628 0.62773723 0.7080292  0.7080292 ] \n",
      "\n",
      "0.6952554744525548\n",
      "\n",
      "----------------------------------------------------------------------\n",
      "\n"
     ]
    }
   ],
   "source": [
    "print(\"\\n----------------------------------------------------------------------\\n\")\n",
    "\n",
    "#4.1 KNN Classifier On TomekLinks Under sample Training dataset\n",
    "print(\"KNN Classifier on TomekLinks Undersample Training dataset:\")\n",
    "clfFitPredict(KNeighborsClassifier(n_neighbors = 2), X_train_tl1, X_test, y_train_tl1, y_test)\n",
    "\n",
    "#Cross Validation on KNN Classifier on TomekLinks Under sampled Training dataset\n",
    "print(\"\\nCross Validation of KNN Classifier on TomekLinks Undersample Training dataset:\")\n",
    "crossValidation(KNeighborsClassifier(n_neighbors = 2), X_tl1, y_tl1, 4)\n",
    "\n",
    "print(\"\\n----------------------------------------------------------------------\\n\")"
   ]
  },
  {
   "cell_type": "code",
   "execution_count": 360,
   "metadata": {},
   "outputs": [
    {
     "name": "stdout",
     "output_type": "stream",
     "text": [
      "\n",
      "----------------------------------------------------------------------\n",
      "\n",
      "Random Forest Classifier on TomekLinks Undersample dataset:\n",
      "\n",
      "Confusion Matrix: \n",
      "[[100  25]\n",
      " [ 29  21]]\n",
      "\n",
      "Accuracy : 0.6914285714285714\n",
      "Sensitivity : 0.8\n",
      "Precision: 0.7751937984496124\n",
      "Specificity : 0.42\n",
      "F-Score : 0.7874015748031497\n",
      "\n",
      "               precision    recall  f1-score   support\n",
      "\n",
      "         0.0       0.78      0.80      0.79       125\n",
      "         1.0       0.46      0.42      0.44        50\n",
      "\n",
      "    accuracy                           0.69       175\n",
      "   macro avg       0.62      0.61      0.61       175\n",
      "weighted avg       0.68      0.69      0.69       175\n",
      " \n",
      "\n",
      "\n",
      "Cross Validation of Random Forest Classifier on TomekLinks Undersample Training dataset:\n",
      "[0.70072993 0.67883212 0.7080292  0.7080292 ] \n",
      "\n",
      "0.698905109489051\n",
      "\n",
      "----------------------------------------------------------------------\n",
      "\n"
     ]
    }
   ],
   "source": [
    "print(\"\\n----------------------------------------------------------------------\\n\")\n",
    "\n",
    "#5.1 Random Forest Classifier On TomekLinks Under sample Training dataset\n",
    "print(\"Random Forest Classifier on TomekLinks Undersample dataset:\")\n",
    "clfFitPredict(RandomForestClassifier(max_depth=4, random_state=0), X_train_tl1, X_test, y_train_tl1, y_test)\n",
    "\n",
    "#Cross Validation on Random Forest Classifier on TomekLinks under sampled Training dataset\n",
    "print(\"\\nCross Validation of Random Forest Classifier on TomekLinks Undersample Training dataset:\")\n",
    "crossValidation(RandomForestClassifier(max_depth=4, random_state=0), X_tl1, y_tl1, 4)\n",
    "\n",
    "print(\"\\n----------------------------------------------------------------------\\n\")"
   ]
  },
  {
   "cell_type": "code",
   "execution_count": 361,
   "metadata": {},
   "outputs": [
    {
     "name": "stdout",
     "output_type": "stream",
     "text": [
      "\n",
      "----------------------------------------------------------------------\n",
      "\n",
      "Voting Classifier on TomekLinks Under sampled Training dataset:\n",
      "\n",
      "Confusion Matrix: \n",
      "[[123   2]\n",
      " [ 44   6]]\n",
      "\n",
      "Accuracy : 0.7371428571428571\n",
      "Sensitivity : 0.984\n",
      "Precision: 0.7365269461077845\n",
      "Specificity : 0.12\n",
      "F-Score : 0.8424657534246576\n",
      "\n",
      "               precision    recall  f1-score   support\n",
      "\n",
      "         0.0       0.74      0.98      0.84       125\n",
      "         1.0       0.75      0.12      0.21        50\n",
      "\n",
      "    accuracy                           0.74       175\n",
      "   macro avg       0.74      0.55      0.52       175\n",
      "weighted avg       0.74      0.74      0.66       175\n",
      " \n",
      "\n",
      "\n",
      "Cross Validation of Voting Classifier on TomekLinks under sampled Training dataset:\n",
      "[0.7080292  0.70072993 0.67883212 0.73722628] \n",
      "\n",
      "0.7062043795620437\n",
      "\n",
      "----------------------------------------------------------------------\n",
      "\n"
     ]
    }
   ],
   "source": [
    "print(\"\\n----------------------------------------------------------------------\\n\")\n",
    "\n",
    "#6.1 Voting Classifier for TomekLinks UnderSampled Training Dataset\n",
    "print(\"Voting Classifier on TomekLinks Under sampled Training dataset:\")\n",
    "clfs = [('rf', RandomForestClassifier(max_depth=4,random_state=1)), ('lr',LogisticRegression()), ('svm',LinearSVC())]\n",
    "vclf = VotingClassifier(estimators=clfs, voting='hard')\n",
    "clfFitPredict(vclf, X_train_tl1, X_test, y_train_tl1, y_test)\n",
    "\n",
    "#Cross Validation on Voting Classifier on TomekLinks UnderSampled Training datset\n",
    "print(\"\\nCross Validation of Voting Classifier on TomekLinks under sampled Training dataset:\")\n",
    "crossValidation(vclf, X_tl1, y_tl1, 4)\n",
    "\n",
    "print(\"\\n----------------------------------------------------------------------\\n\")"
   ]
  },
  {
   "cell_type": "code",
   "execution_count": 362,
   "metadata": {},
   "outputs": [
    {
     "name": "stdout",
     "output_type": "stream",
     "text": [
      "\n",
      "----------------------------------------------------------------------\n",
      "\n",
      "Original Distribution of Training Dataset \n",
      "\n",
      "0.0    291\n",
      "1.0    117\n",
      "Name: is_patient, dtype: int64\n",
      "\n",
      "Training Dataset Distribution After ClusterCentroid Under Sampling\n",
      "\n",
      "1.0    117\n",
      "0.0    117\n",
      "dtype: int64\n",
      "\n",
      "----------------------------------------------------------------------\n",
      "\n"
     ]
    }
   ],
   "source": [
    "print(\"\\n----------------------------------------------------------------------\\n\")\n",
    "\n",
    "#ClusterCentroidsUnderSampling For Training Dataset\n",
    "cc1 = ClusterCentroids(random_state=42, sampling_strategy = 'majority')\n",
    "X_train_cc1, y_train_cc1 = cc1.fit_resample(X_train, y_train.values.ravel())\n",
    "print(\"Original Distribution of Training Dataset \\n\")\n",
    "print(y_train[\"is_patient\"].value_counts())\n",
    "print(\"\\nTraining Dataset Distribution After ClusterCentroid Under Sampling\\n\")\n",
    "print(pd.Series(y_train_cc1).value_counts())\n",
    "X_train_cc1 = pd.DataFrame(X_train_cc1)\n",
    "y_train_cc1 = pd.DataFrame(y_train_cc1)\n",
    "y_train_cc1 = y_train_cc1.rename(columns={0:\"is_patient\"})\n",
    "X_cc1 = pd.concat([X_train_cc1, X_test])\n",
    "y_cc1 = pd.concat([y_train_cc1, y_test])\n",
    "\n",
    "print(\"\\n----------------------------------------------------------------------\\n\")"
   ]
  },
  {
   "cell_type": "code",
   "execution_count": 363,
   "metadata": {},
   "outputs": [
    {
     "name": "stdout",
     "output_type": "stream",
     "text": [
      "\n",
      "----------------------------------------------------------------------\n",
      "\n",
      "Naive Bayes on Cluster Centroid Under sampled Training dataset:\n",
      "\n",
      "Confusion Matrix: \n",
      "[[44 81]\n",
      " [ 3 47]]\n",
      "\n",
      "Accuracy : 0.52\n",
      "Sensitivity : 0.352\n",
      "Precision: 0.9361702127659575\n",
      "Specificity : 0.94\n",
      "F-Score : 0.5116279069767442\n",
      "\n",
      "               precision    recall  f1-score   support\n",
      "\n",
      "         0.0       0.94      0.35      0.51       125\n",
      "         1.0       0.37      0.94      0.53        50\n",
      "\n",
      "    accuracy                           0.52       175\n",
      "   macro avg       0.65      0.65      0.52       175\n",
      "weighted avg       0.77      0.52      0.52       175\n",
      " \n",
      "\n",
      "\n",
      "Cross Validation of Naive Bayes on Cluster Centroid Under sampled Training dataset:\n",
      "[0.73786408 0.67647059 0.58823529 0.61764706] \n",
      "\n",
      "0.6550542547115934\n",
      "\n",
      "----------------------------------------------------------------------\n",
      "\n"
     ]
    }
   ],
   "source": [
    "print(\"\\n----------------------------------------------------------------------\\n\")\n",
    "\n",
    "#1 Naive Bayes On Cluster Centroid Under sampled Training dataset\n",
    "print(\"Naive Bayes on Cluster Centroid Under sampled Training dataset:\")\n",
    "clfFitPredict(GaussianNB(), X_train_cc1, X_test, y_train_cc1, y_test)\n",
    "\n",
    "#Cross Validation on Naive Bayes on Cluster Centroid Under sampled Training datset\n",
    "print(\"\\nCross Validation of Naive Bayes on Cluster Centroid Under sampled Training dataset:\")\n",
    "crossValidation(GaussianNB(), X_cc1, y_cc1, 4)\n",
    "\n",
    "print(\"\\n----------------------------------------------------------------------\\n\")"
   ]
  },
  {
   "cell_type": "code",
   "execution_count": 364,
   "metadata": {},
   "outputs": [
    {
     "name": "stdout",
     "output_type": "stream",
     "text": [
      "\n",
      "----------------------------------------------------------------------\n",
      "\n",
      "SVM Classifier on Cluster Centroids Undersample Training dataset:\n",
      "\n",
      "Confusion Matrix: \n",
      "[[54 71]\n",
      " [ 3 47]]\n",
      "\n",
      "Accuracy : 0.5771428571428572\n",
      "Sensitivity : 0.432\n",
      "Precision: 0.9473684210526315\n",
      "Specificity : 0.94\n",
      "F-Score : 0.5934065934065934\n",
      "\n",
      "               precision    recall  f1-score   support\n",
      "\n",
      "         0.0       0.95      0.43      0.59       125\n",
      "         1.0       0.40      0.94      0.56        50\n",
      "\n",
      "    accuracy                           0.58       175\n",
      "   macro avg       0.67      0.69      0.58       175\n",
      "weighted avg       0.79      0.58      0.58       175\n",
      " \n",
      "\n",
      "\n",
      "Cross Validation of SVM Classifier on Cluster Centroids Undersample Training dataset:\n",
      "[0.69902913 0.69607843 0.68627451 0.6372549 ] \n",
      "\n",
      "0.6796592423377118\n",
      "\n",
      "----------------------------------------------------------------------\n",
      "\n"
     ]
    }
   ],
   "source": [
    "print(\"\\n----------------------------------------------------------------------\\n\")\n",
    "\n",
    "#2.1 SVM Classifier On Cluster Centroids UnderSampled Training dataset\n",
    "print(\"SVM Classifier on Cluster Centroids Undersample Training dataset:\")\n",
    "clfFitPredict(LinearSVC(), X_train_cc1, X_test, y_train_cc1, y_test)\n",
    "\n",
    "#Cross Validation on SVM Classifier on Cluster Centroids Under sampled Training datset\n",
    "print(\"\\nCross Validation of SVM Classifier on Cluster Centroids Undersample Training dataset:\")\n",
    "crossValidation(LinearSVC(), X_cc1, y_cc1, 4)\n",
    "\n",
    "print(\"\\n----------------------------------------------------------------------\\n\")"
   ]
  },
  {
   "cell_type": "code",
   "execution_count": 365,
   "metadata": {},
   "outputs": [
    {
     "name": "stdout",
     "output_type": "stream",
     "text": [
      "\n",
      "----------------------------------------------------------------------\n",
      "\n",
      "Logistic Regression Classifier on Cluster Centroids Undersample Training dataset:\n",
      "\n",
      "Confusion Matrix: \n",
      "[[52 73]\n",
      " [ 5 45]]\n",
      "\n",
      "Accuracy : 0.5542857142857143\n",
      "Sensitivity : 0.416\n",
      "Precision: 0.9122807017543859\n",
      "Specificity : 0.9\n",
      "F-Score : 0.5714285714285714\n",
      "\n",
      "               precision    recall  f1-score   support\n",
      "\n",
      "         0.0       0.91      0.42      0.57       125\n",
      "         1.0       0.38      0.90      0.54        50\n",
      "\n",
      "    accuracy                           0.55       175\n",
      "   macro avg       0.65      0.66      0.55       175\n",
      "weighted avg       0.76      0.55      0.56       175\n",
      " \n",
      "\n",
      "\n",
      "Cross Validation of Logistic Regression Classifier on Cluster Centroids Undersample Training dataset:\n",
      "[0.68932039 0.67647059 0.68627451 0.68627451] \n",
      "\n",
      "0.684584999048163\n",
      "\n",
      "----------------------------------------------------------------------\n",
      "\n"
     ]
    }
   ],
   "source": [
    "print(\"\\n----------------------------------------------------------------------\\n\")\n",
    "\n",
    "#3.1 Logistic Regression Classifier On Cluster Centroids Undersampled Training dataset\n",
    "print(\"Logistic Regression Classifier on Cluster Centroids Undersample Training dataset:\")\n",
    "clfFitPredict(LogisticRegression(), X_train_cc1, X_test, y_train_cc1, y_test)\n",
    "\n",
    "#Cross Validation on Logistic Regression Classifier on Cluster Centroids Undersampled Training datset\n",
    "print(\"\\nCross Validation of Logistic Regression Classifier on Cluster Centroids Undersample Training dataset:\")\n",
    "crossValidation(LogisticRegression(), X_cc1, y_cc1, 4)\n",
    "\n",
    "print(\"\\n----------------------------------------------------------------------\\n\")"
   ]
  },
  {
   "cell_type": "code",
   "execution_count": 366,
   "metadata": {},
   "outputs": [
    {
     "name": "stdout",
     "output_type": "stream",
     "text": [
      "\n",
      "----------------------------------------------------------------------\n",
      "\n",
      "KNN Classifier on Cluster Centroids Undersample Training dataset:\n",
      "\n",
      "Confusion Matrix: \n",
      "[[89 36]\n",
      " [32 18]]\n",
      "\n",
      "Accuracy : 0.6114285714285714\n",
      "Sensitivity : 0.712\n",
      "Precision: 0.7355371900826446\n",
      "Specificity : 0.36\n",
      "F-Score : 0.7235772357723577\n",
      "\n",
      "               precision    recall  f1-score   support\n",
      "\n",
      "         0.0       0.74      0.71      0.72       125\n",
      "         1.0       0.33      0.36      0.35        50\n",
      "\n",
      "    accuracy                           0.61       175\n",
      "   macro avg       0.53      0.54      0.53       175\n",
      "weighted avg       0.62      0.61      0.62       175\n",
      " \n",
      "\n",
      "\n",
      "Cross Validation of KNN Classifier on Cluster Centroids Undersample Training dataset:\n",
      "[0.66990291 0.55882353 0.6372549  0.59803922] \n",
      "\n",
      "0.6160051399200457\n",
      "\n",
      "----------------------------------------------------------------------\n",
      "\n"
     ]
    }
   ],
   "source": [
    "print(\"\\n----------------------------------------------------------------------\\n\")\n",
    "\n",
    "#4.1 KNN Classifier On Cluster Centroids Undersample Training dataset\n",
    "print(\"KNN Classifier on Cluster Centroids Undersample Training dataset:\")\n",
    "clfFitPredict(KNeighborsClassifier(n_neighbors = 2), X_train_cc1, X_test, y_train_cc1, y_test)\n",
    "\n",
    "#Cross Validation on KNN Classifier on Cluster Centroids Undersampled Training dataset\n",
    "print(\"\\nCross Validation of KNN Classifier on Cluster Centroids Undersample Training dataset:\")\n",
    "crossValidation(KNeighborsClassifier(n_neighbors = 2), X_cc1, y_cc1, 4)\n",
    "\n",
    "print(\"\\n----------------------------------------------------------------------\\n\")"
   ]
  },
  {
   "cell_type": "code",
   "execution_count": 367,
   "metadata": {},
   "outputs": [
    {
     "name": "stdout",
     "output_type": "stream",
     "text": [
      "\n",
      "----------------------------------------------------------------------\n",
      "\n",
      "Random Forest Classifier on Cluster Centroids Undersample Training dataset:\n",
      "\n",
      "Confusion Matrix: \n",
      "[[68 57]\n",
      " [11 39]]\n",
      "\n",
      "Accuracy : 0.6114285714285714\n",
      "Sensitivity : 0.544\n",
      "Precision: 0.8607594936708861\n",
      "Specificity : 0.78\n",
      "F-Score : 0.6666666666666666\n",
      "\n",
      "               precision    recall  f1-score   support\n",
      "\n",
      "         0.0       0.86      0.54      0.67       125\n",
      "         1.0       0.41      0.78      0.53        50\n",
      "\n",
      "    accuracy                           0.61       175\n",
      "   macro avg       0.63      0.66      0.60       175\n",
      "weighted avg       0.73      0.61      0.63       175\n",
      " \n",
      "\n",
      "\n",
      "Cross Validation of Random Forest Classifier on Cluster Centroids Undersample Training dataset:\n",
      "[0.78640777 0.7745098  0.73529412 0.60784314] \n",
      "\n",
      "0.7260137064534552\n",
      "\n",
      "----------------------------------------------------------------------\n",
      "\n"
     ]
    }
   ],
   "source": [
    "print(\"\\n----------------------------------------------------------------------\\n\")\n",
    "\n",
    "#5.1 Random Forest Classifier On Cluster Centroids UnderSampled Training dataset\n",
    "print(\"Random Forest Classifier on Cluster Centroids Undersample Training dataset:\")\n",
    "clfFitPredict(RandomForestClassifier(max_depth=4, random_state=0), X_train_cc1, X_test, y_train_cc1, y_test)\n",
    "\n",
    "#Cross Validation on Random Forest Classifier on Cluster Centroids under sampled Training datset\n",
    "print(\"\\nCross Validation of Random Forest Classifier on Cluster Centroids Undersample Training dataset:\")\n",
    "crossValidation(RandomForestClassifier(max_depth=4, random_state=0), X_cc1, y_cc1, 4)\n",
    "\n",
    "print(\"\\n----------------------------------------------------------------------\\n\")"
   ]
  },
  {
   "cell_type": "code",
   "execution_count": 368,
   "metadata": {},
   "outputs": [
    {
     "name": "stdout",
     "output_type": "stream",
     "text": [
      "\n",
      "----------------------------------------------------------------------\n",
      "\n",
      "Voting Classifier on Cluster Centroids Under sampled Training dataset:\n",
      "\n",
      "Confusion Matrix: \n",
      "[[58 67]\n",
      " [ 5 45]]\n",
      "\n",
      "Accuracy : 0.5885714285714285\n",
      "Sensitivity : 0.464\n",
      "Precision: 0.9206349206349206\n",
      "Specificity : 0.9\n",
      "F-Score : 0.6170212765957447\n",
      "\n",
      "               precision    recall  f1-score   support\n",
      "\n",
      "         0.0       0.92      0.46      0.62       125\n",
      "         1.0       0.40      0.90      0.56        50\n",
      "\n",
      "    accuracy                           0.59       175\n",
      "   macro avg       0.66      0.68      0.59       175\n",
      "weighted avg       0.77      0.59      0.60       175\n",
      " \n",
      "\n",
      "\n",
      "Cross Validation of Voting Classifier on Cluster Centroids under sampled Training dataset:\n",
      "[0.68932039 0.70588235 0.69607843 0.61764706] \n",
      "\n",
      "0.6772320578716924\n",
      "\n",
      "----------------------------------------------------------------------\n",
      "\n"
     ]
    }
   ],
   "source": [
    "print(\"\\n----------------------------------------------------------------------\\n\")\n",
    "\n",
    "#6 Voting Classifier for Cluster Centroids UnderSampled Training Dataset\n",
    "print(\"Voting Classifier on Cluster Centroids Under sampled Training dataset:\")\n",
    "clfs = [('rf', RandomForestClassifier(max_depth=4,random_state=1)), ('lr',LogisticRegression()), ('svm',LinearSVC()), \n",
    "       ('nb',GaussianNB())]\n",
    "vclf = VotingClassifier(estimators=clfs, voting='hard')\n",
    "clfFitPredict(vclf, X_train_cc1, X_test, y_train_cc1, y_test)\n",
    "\n",
    "#Cross Validation on Voting Classifier on Cluster Centroids UnderSampled Training datset\n",
    "print(\"\\nCross Validation of Voting Classifier on Cluster Centroids under sampled Training dataset:\")\n",
    "crossValidation(vclf, X_cc1, y_cc1, 4)\n",
    "\n",
    "print(\"\\n----------------------------------------------------------------------\\n\")"
   ]
  },
  {
   "cell_type": "code",
   "execution_count": 369,
   "metadata": {},
   "outputs": [
    {
     "name": "stdout",
     "output_type": "stream",
     "text": [
      "\n",
      "----------------------------------------------------------------------\n",
      "\n",
      "Original Training Dataset Distribution \n",
      "\n",
      "0.0    291\n",
      "1.0    117\n",
      "Name: is_patient, dtype: int64\n",
      "\n",
      "Training Dataset Distribution After SMOTE Over Sampling\n",
      "\n",
      "0.0    291\n",
      "1.0    291\n",
      "dtype: int64\n",
      "\n",
      "----------------------------------------------------------------------\n",
      "\n"
     ]
    }
   ],
   "source": [
    "print(\"\\n----------------------------------------------------------------------\\n\")\n",
    "\n",
    "#SMOTE Over Sampling for Training Dataset\n",
    "sm1 = SMOTE(sampling_strategy = 'minority', random_state=42)\n",
    "X_train_sm1, y_train_sm1 = sm1.fit_resample(X_train, y_train.values.ravel())\n",
    "print(\"Original Training Dataset Distribution \\n\")\n",
    "print(y_train[\"is_patient\"].value_counts())\n",
    "print(\"\\nTraining Dataset Distribution After SMOTE Over Sampling\\n\")\n",
    "print(pd.Series(y_train_sm1).value_counts())\n",
    "X_train_sm1 = pd.DataFrame(X_train_sm1)\n",
    "y_train_sm1 = pd.DataFrame(y_train_sm1)\n",
    "y_train_sm1 = y_train_sm1.rename(columns = {0:'is_patient'})\n",
    "X_sm1 = pd.concat([X_train_sm1, X_test], axis=0)\n",
    "y_sm1 = pd.concat([y_train_sm1, y_test], axis=0)\n",
    "\n",
    "print(\"\\n----------------------------------------------------------------------\\n\")"
   ]
  },
  {
   "cell_type": "code",
   "execution_count": 370,
   "metadata": {},
   "outputs": [
    {
     "name": "stdout",
     "output_type": "stream",
     "text": [
      "\n",
      "----------------------------------------------------------------------\n",
      "\n",
      "Naive Bayes on SMOTE Oversampled Training dataset:\n",
      "\n",
      "Confusion Matrix: \n",
      "[[56 69]\n",
      " [ 6 44]]\n",
      "\n",
      "Accuracy : 0.5714285714285714\n",
      "Sensitivity : 0.448\n",
      "Precision: 0.9032258064516129\n",
      "Specificity : 0.88\n",
      "F-Score : 0.5989304812834224\n",
      "\n",
      "               precision    recall  f1-score   support\n",
      "\n",
      "         0.0       0.90      0.45      0.60       125\n",
      "         1.0       0.39      0.88      0.54        50\n",
      "\n",
      "    accuracy                           0.57       175\n",
      "   macro avg       0.65      0.66      0.57       175\n",
      "weighted avg       0.76      0.57      0.58       175\n",
      " \n",
      "\n",
      "\n",
      "Cross Validation of Naive Bayes on SMOTE Over sampled Training dataset:\n",
      "[0.70526316 0.66137566 0.64021164 0.67195767] \n",
      "\n",
      "0.6697020328599276\n",
      "\n",
      "----------------------------------------------------------------------\n",
      "\n"
     ]
    }
   ],
   "source": [
    "print(\"\\n----------------------------------------------------------------------\\n\")\n",
    "\n",
    "#1 Naive Bayes On SMOTE Oversampled Training dataset\n",
    "print(\"Naive Bayes on SMOTE Oversampled Training dataset:\")\n",
    "clfFitPredict(GaussianNB(), X_train_sm1, X_test, y_train_sm1, y_test)\n",
    "\n",
    "#Cross Validation on Naive Bayes on SMOTE Over sampled Training datset\n",
    "print(\"\\nCross Validation of Naive Bayes on SMOTE Over sampled Training dataset:\")\n",
    "crossValidation(GaussianNB(), X_sm1, y_sm1, 4)\n",
    "\n",
    "print(\"\\n----------------------------------------------------------------------\\n\")"
   ]
  },
  {
   "cell_type": "code",
   "execution_count": 371,
   "metadata": {},
   "outputs": [
    {
     "name": "stdout",
     "output_type": "stream",
     "text": [
      "\n",
      "----------------------------------------------------------------------\n",
      "\n",
      "SVM Classifier on SMOTE Oversample Training dataset:\n",
      "\n",
      "Confusion Matrix: \n",
      "[[66 59]\n",
      " [ 9 41]]\n",
      "\n",
      "Accuracy : 0.6114285714285714\n",
      "Sensitivity : 0.528\n",
      "Precision: 0.88\n",
      "Specificity : 0.82\n",
      "F-Score : 0.66\n",
      "\n",
      "               precision    recall  f1-score   support\n",
      "\n",
      "         0.0       0.88      0.53      0.66       125\n",
      "         1.0       0.41      0.82      0.55        50\n",
      "\n",
      "    accuracy                           0.61       175\n",
      "   macro avg       0.65      0.67      0.60       175\n",
      "weighted avg       0.75      0.61      0.63       175\n",
      " \n",
      "\n",
      "\n",
      "Cross Validation of SVM Classifier on SMOTE Oversample Training dataset:\n",
      "[0.70526316 0.73015873 0.67724868 0.69312169] \n",
      "\n",
      "0.7014480646059593\n",
      "\n",
      "----------------------------------------------------------------------\n",
      "\n"
     ]
    }
   ],
   "source": [
    "print(\"\\n----------------------------------------------------------------------\\n\")\n",
    "\n",
    "#2.1 SVM Classifier On SMOTE OverSampled Training dataset\n",
    "print(\"SVM Classifier on SMOTE Oversample Training dataset:\")\n",
    "clfFitPredict(LinearSVC(), X_train_sm1, X_test, y_train_sm1, y_test)\n",
    "\n",
    "#Cross Validation on SVM Classifier on SMOTE Oversampled Training datset\n",
    "print(\"\\nCross Validation of SVM Classifier on SMOTE Oversample Training dataset:\")\n",
    "crossValidation(LinearSVC(), X_sm1, y_sm1, 4)\n",
    "\n",
    "print(\"\\n----------------------------------------------------------------------\\n\")"
   ]
  },
  {
   "cell_type": "code",
   "execution_count": 372,
   "metadata": {},
   "outputs": [
    {
     "name": "stdout",
     "output_type": "stream",
     "text": [
      "\n",
      "----------------------------------------------------------------------\n",
      "\n",
      "Logistic Regression Classifier on SMOTE Oversample Training dataset:\n",
      "\n",
      "Confusion Matrix: \n",
      "[[75 50]\n",
      " [11 39]]\n",
      "\n",
      "Accuracy : 0.6514285714285715\n",
      "Sensitivity : 0.6\n",
      "Precision: 0.872093023255814\n",
      "Specificity : 0.78\n",
      "F-Score : 0.7109004739336493\n",
      "\n",
      "               precision    recall  f1-score   support\n",
      "\n",
      "         0.0       0.87      0.60      0.71       125\n",
      "         1.0       0.44      0.78      0.56        50\n",
      "\n",
      "    accuracy                           0.65       175\n",
      "   macro avg       0.66      0.69      0.64       175\n",
      "weighted avg       0.75      0.65      0.67       175\n",
      " \n",
      "\n",
      "\n",
      "Cross Validation of Logistic Regression Classifier on SMOTE Oversample Training dataset:\n",
      "[0.66315789 0.71428571 0.62433862 0.69312169] \n",
      "\n",
      "0.6737259816207184\n",
      "\n",
      "----------------------------------------------------------------------\n",
      "\n"
     ]
    }
   ],
   "source": [
    "print(\"\\n----------------------------------------------------------------------\\n\")\n",
    "\n",
    "#3.1 Logistic Regression Classifier On SMOTE Oversampled Training dataset\n",
    "print(\"Logistic Regression Classifier on SMOTE Oversample Training dataset:\")\n",
    "clfFitPredict(LogisticRegression(), X_train_sm1, X_test, y_train_sm1, y_test)\n",
    "\n",
    "#Cross Validation on Logistic Regression Classifier on SMOTE Oversampled Training datset\n",
    "print(\"\\nCross Validation of Logistic Regression Classifier on SMOTE Oversample Training dataset:\")\n",
    "crossValidation(LogisticRegression(), X_sm1, y_sm1, 4)\n",
    "\n",
    "print(\"\\n----------------------------------------------------------------------\\n\")"
   ]
  },
  {
   "cell_type": "code",
   "execution_count": 373,
   "metadata": {},
   "outputs": [
    {
     "name": "stdout",
     "output_type": "stream",
     "text": [
      "\n",
      "----------------------------------------------------------------------\n",
      "\n",
      "KNN Classifier on SMOTE Oversample Training dataset:\n",
      "\n",
      "Confusion Matrix: \n",
      "[[102  23]\n",
      " [ 32  18]]\n",
      "\n",
      "Accuracy : 0.6857142857142857\n",
      "Sensitivity : 0.816\n",
      "Precision: 0.7611940298507462\n",
      "Specificity : 0.36\n",
      "F-Score : 0.7876447876447876\n",
      "\n",
      "               precision    recall  f1-score   support\n",
      "\n",
      "         0.0       0.76      0.82      0.79       125\n",
      "         1.0       0.44      0.36      0.40        50\n",
      "\n",
      "    accuracy                           0.69       175\n",
      "   macro avg       0.60      0.59      0.59       175\n",
      "weighted avg       0.67      0.69      0.68       175\n",
      " \n",
      "\n",
      "\n",
      "Cross Validation of KNN Classifier on SMOTE Oversample Training dataset:\n",
      "[0.75263158 0.75661376 0.79365079 0.68783069] \n",
      "\n",
      "0.7476817042606516\n",
      "\n",
      "----------------------------------------------------------------------\n",
      "\n"
     ]
    }
   ],
   "source": [
    "print(\"\\n----------------------------------------------------------------------\\n\")\n",
    "\n",
    "#4.1 KNN Classifier On SMOTE Oversample Training dataset\n",
    "print(\"KNN Classifier on SMOTE Oversample Training dataset:\")\n",
    "clfFitPredict(KNeighborsClassifier(n_neighbors = 2), X_train_sm1, X_test, y_train_sm1, y_test)\n",
    "\n",
    "#Cross Validation on KNN Classifier on SMOTE Oversampled Training dataset\n",
    "print(\"\\nCross Validation of KNN Classifier on SMOTE Oversample Training dataset:\")\n",
    "crossValidation(KNeighborsClassifier(n_neighbors = 2), X_sm1, y_sm1, 4)\n",
    "\n",
    "print(\"\\n----------------------------------------------------------------------\\n\")"
   ]
  },
  {
   "cell_type": "code",
   "execution_count": 374,
   "metadata": {},
   "outputs": [
    {
     "name": "stdout",
     "output_type": "stream",
     "text": [
      "\n",
      "----------------------------------------------------------------------\n",
      "\n",
      "Random Forest Classifier on SMOTE Oversample Training dataset:\n",
      "\n",
      "Confusion Matrix: \n",
      "[[76 49]\n",
      " [16 34]]\n",
      "\n",
      "Accuracy : 0.6285714285714286\n",
      "Sensitivity : 0.608\n",
      "Precision: 0.8260869565217391\n",
      "Specificity : 0.68\n",
      "F-Score : 0.7004608294930876\n",
      "\n",
      "               precision    recall  f1-score   support\n",
      "\n",
      "         0.0       0.83      0.61      0.70       125\n",
      "         1.0       0.41      0.68      0.51        50\n",
      "\n",
      "    accuracy                           0.63       175\n",
      "   macro avg       0.62      0.64      0.61       175\n",
      "weighted avg       0.71      0.63      0.65       175\n",
      " \n",
      "\n",
      "\n",
      "Cross Validation of Random Forest Classifier on SMOTE Oversample Training dataset:\n",
      "[0.69473684 0.73015873 0.72486772 0.67724868] \n",
      "\n",
      "0.7067529935950989\n",
      "\n",
      "----------------------------------------------------------------------\n",
      "\n"
     ]
    }
   ],
   "source": [
    "print(\"\\n----------------------------------------------------------------------\\n\")\n",
    "\n",
    "#5.1 Random Forest Classifier On SMOTE OverSampled Training dataset\n",
    "print(\"Random Forest Classifier on SMOTE Oversample Training dataset:\")\n",
    "clfFitPredict(RandomForestClassifier(max_depth=4, random_state=0), X_train_sm1, X_test, y_train_sm1, y_test)\n",
    "\n",
    "#Cross Validation on Random Forest Classifier on SMOTE Over sampled Training datset\n",
    "print(\"\\nCross Validation of Random Forest Classifier on SMOTE Oversample Training dataset:\")\n",
    "crossValidation(RandomForestClassifier(max_depth=4, random_state=0), X_sm1, y_sm1, 4)\n",
    "\n",
    "print(\"\\n----------------------------------------------------------------------\\n\")"
   ]
  },
  {
   "cell_type": "code",
   "execution_count": 375,
   "metadata": {},
   "outputs": [
    {
     "name": "stdout",
     "output_type": "stream",
     "text": [
      "\n",
      "----------------------------------------------------------------------\n",
      "\n",
      "Voting Classifier on SMOTE Over sampled Training dataset:\n",
      "\n",
      "Confusion Matrix: \n",
      "[[72 53]\n",
      " [10 40]]\n",
      "\n",
      "Accuracy : 0.64\n",
      "Sensitivity : 0.576\n",
      "Precision: 0.8780487804878049\n",
      "Specificity : 0.8\n",
      "F-Score : 0.6956521739130435\n",
      "\n",
      "               precision    recall  f1-score   support\n",
      "\n",
      "         0.0       0.88      0.58      0.70       125\n",
      "         1.0       0.43      0.80      0.56        50\n",
      "\n",
      "    accuracy                           0.64       175\n",
      "   macro avg       0.65      0.69      0.63       175\n",
      "weighted avg       0.75      0.64      0.66       175\n",
      " \n",
      "\n",
      "\n",
      "Cross Validation of Voting Classifier on SMOTE Over sampled Training dataset:\n",
      "[0.71052632 0.74603175 0.68783069 0.7037037 ] \n",
      "\n",
      "0.7120231133389028\n",
      "\n",
      "----------------------------------------------------------------------\n",
      "\n"
     ]
    }
   ],
   "source": [
    "print(\"\\n----------------------------------------------------------------------\\n\")\n",
    "\n",
    "#6 Voting Classifier for SMOTE OverSampled Training Dataset\n",
    "print(\"Voting Classifier on SMOTE Over sampled Training dataset:\")\n",
    "clfs = [('rf', RandomForestClassifier(max_depth=4,random_state=1)), ('lr',LogisticRegression()), ('svm',LinearSVC()), \n",
    "       ('nb',GaussianNB())]\n",
    "vclf = VotingClassifier(estimators=clfs, voting='hard')\n",
    "clfFitPredict(vclf, X_train_sm1, X_test, y_train_sm1, y_test)\n",
    "\n",
    "#Cross Validation on Voting Classifier on SMOTE OverSampled Training datset\n",
    "print(\"\\nCross Validation of Voting Classifier on SMOTE Over sampled Training dataset:\")\n",
    "crossValidation(vclf, X_sm1, y_sm1, 4)\n",
    "\n",
    "print(\"\\n----------------------------------------------------------------------\\n\")"
   ]
  },
  {
   "cell_type": "code",
   "execution_count": 376,
   "metadata": {},
   "outputs": [
    {
     "name": "stdout",
     "output_type": "stream",
     "text": [
      "Original Training Dataset Distribution \n",
      "\n",
      "0.0    291\n",
      "1.0    117\n",
      "Name: is_patient, dtype: int64\n",
      "\n",
      "Training Dataset Distribution After SMOTE Over Sampling\n",
      "\n",
      "1.0    117\n",
      "0.0    114\n",
      "dtype: int64\n"
     ]
    }
   ],
   "source": [
    "#Edited Nearest Neighbor Under Sampling \n",
    "enn = EditedNearestNeighbours(sampling_strategy='majority')\n",
    "X_train_enn, y_train_enn = enn.fit_resample(X_train, y_train.values.ravel())\n",
    "print(\"Original Training Dataset Distribution \\n\")\n",
    "print(y_train[\"is_patient\"].value_counts())\n",
    "print(\"\\nTraining Dataset Distribution After SMOTE Over Sampling\\n\")\n",
    "print(pd.Series(y_train_enn).value_counts())\n",
    "X_train_enn = pd.DataFrame(X_train_enn)\n",
    "y_train_enn = pd.DataFrame(y_train_enn)\n",
    "y_train_enn = y_train_enn.rename(columns = {0:'is_patient'})\n",
    "X_enn = pd.concat([X_train_enn, X_test], axis=0)\n",
    "y_enn = pd.concat([y_train_enn, y_test], axis=0)"
   ]
  },
  {
   "cell_type": "code",
   "execution_count": 377,
   "metadata": {},
   "outputs": [
    {
     "name": "stdout",
     "output_type": "stream",
     "text": [
      "\n",
      "----------------------------------------------------------------------\n",
      "\n",
      "Naive Bayes on ENN Undersampled Training dataset:\n",
      "\n",
      "Confusion Matrix: \n",
      "[[45 80]\n",
      " [ 3 47]]\n",
      "\n",
      "Accuracy : 0.5257142857142857\n",
      "Sensitivity : 0.36\n",
      "Precision: 0.9375\n",
      "Specificity : 0.94\n",
      "F-Score : 0.5202312138728323\n",
      "\n",
      "               precision    recall  f1-score   support\n",
      "\n",
      "         0.0       0.94      0.36      0.52       125\n",
      "         1.0       0.37      0.94      0.53        50\n",
      "\n",
      "    accuracy                           0.53       175\n",
      "   macro avg       0.65      0.65      0.53       175\n",
      "weighted avg       0.78      0.53      0.52       175\n",
      " \n",
      "\n",
      "\n",
      "Cross Validation of Naive Bayes on ENN Under sampled Training dataset:\n",
      "[0.82352941 0.78431373 0.57425743 0.61386139] \n",
      "\n",
      "0.6989904872840226\n",
      "\n",
      "----------------------------------------------------------------------\n",
      "\n"
     ]
    }
   ],
   "source": [
    "print(\"\\n----------------------------------------------------------------------\\n\")\n",
    "\n",
    "#1 Naive Bayes On ENN Undersampled Training dataset\n",
    "print(\"Naive Bayes on ENN Undersampled Training dataset:\")\n",
    "clfFitPredict(GaussianNB(), X_train_enn, X_test, y_train_enn, y_test)\n",
    "\n",
    "#Cross Validation on Naive Bayes on ENN Undersampled Training datset\n",
    "print(\"\\nCross Validation of Naive Bayes on ENN Under sampled Training dataset:\")\n",
    "crossValidation(GaussianNB(), X_enn, y_enn, 4)\n",
    "\n",
    "print(\"\\n----------------------------------------------------------------------\\n\")"
   ]
  },
  {
   "cell_type": "code",
   "execution_count": 378,
   "metadata": {},
   "outputs": [
    {
     "name": "stdout",
     "output_type": "stream",
     "text": [
      "\n",
      "----------------------------------------------------------------------\n",
      "\n",
      "SVM Classifier on ENN Undersample Training dataset:\n",
      "\n",
      "Confusion Matrix: \n",
      "[[55 70]\n",
      " [ 4 46]]\n",
      "\n",
      "Accuracy : 0.5771428571428572\n",
      "Sensitivity : 0.44\n",
      "Precision: 0.9322033898305084\n",
      "Specificity : 0.92\n",
      "F-Score : 0.5978260869565217\n",
      "\n",
      "               precision    recall  f1-score   support\n",
      "\n",
      "         0.0       0.93      0.44      0.60       125\n",
      "         1.0       0.40      0.92      0.55        50\n",
      "\n",
      "    accuracy                           0.58       175\n",
      "   macro avg       0.66      0.68      0.58       175\n",
      "weighted avg       0.78      0.58      0.59       175\n",
      " \n",
      "\n",
      "\n",
      "Cross Validation of SVM Classifier on ENN Undersample Training dataset:\n",
      "[0.80392157 0.79411765 0.7029703  0.66336634] \n",
      "\n",
      "0.7410939623374103\n",
      "\n",
      "----------------------------------------------------------------------\n",
      "\n"
     ]
    }
   ],
   "source": [
    "print(\"\\n----------------------------------------------------------------------\\n\")\n",
    "\n",
    "#2.1 SVM Classifier On ENN UnderSampled Training dataset\n",
    "print(\"SVM Classifier on ENN Undersample Training dataset:\")\n",
    "clfFitPredict(LinearSVC(), X_train_enn, X_test, y_train_enn, y_test)\n",
    "\n",
    "#Cross Validation on SVM Classifier on ENN Undersampled Training datset\n",
    "print(\"\\nCross Validation of SVM Classifier on ENN Undersample Training dataset:\")\n",
    "crossValidation(LinearSVC(), X_enn, y_enn, 4)\n",
    "\n",
    "print(\"\\n----------------------------------------------------------------------\\n\")"
   ]
  },
  {
   "cell_type": "code",
   "execution_count": 379,
   "metadata": {
    "scrolled": true
   },
   "outputs": [
    {
     "name": "stdout",
     "output_type": "stream",
     "text": [
      "\n",
      "----------------------------------------------------------------------\n",
      "\n",
      "Logistic Regression Classifier on ENN Undersample Training dataset:\n",
      "\n",
      "Confusion Matrix: \n",
      "[[57 68]\n",
      " [ 4 46]]\n",
      "\n",
      "Accuracy : 0.5885714285714285\n",
      "Sensitivity : 0.456\n",
      "Precision: 0.9344262295081968\n",
      "Specificity : 0.92\n",
      "F-Score : 0.6129032258064516\n",
      "\n",
      "               precision    recall  f1-score   support\n",
      "\n",
      "         0.0       0.93      0.46      0.61       125\n",
      "         1.0       0.40      0.92      0.56        50\n",
      "\n",
      "    accuracy                           0.59       175\n",
      "   macro avg       0.67      0.69      0.59       175\n",
      "weighted avg       0.78      0.59      0.60       175\n",
      " \n",
      "\n",
      "\n",
      "Cross Validation of Logistic Regression Classifier on ENN Undersample Training dataset:\n",
      "[0.75490196 0.75490196 0.68316832 0.67326733] \n",
      "\n",
      "0.716559891283246\n",
      "\n",
      "----------------------------------------------------------------------\n",
      "\n"
     ]
    }
   ],
   "source": [
    "print(\"\\n----------------------------------------------------------------------\\n\")\n",
    "\n",
    "#3.1 Logistic Regression Classifier On ENN Undersampled Training dataset\n",
    "print(\"Logistic Regression Classifier on ENN Undersample Training dataset:\")\n",
    "clfFitPredict(LogisticRegression(), X_train_enn, X_test, y_train_enn, y_test)\n",
    "\n",
    "#Cross Validation on Logistic Regression Classifier on ENN Undersampled Training datset\n",
    "print(\"\\nCross Validation of Logistic Regression Classifier on ENN Undersample Training dataset:\")\n",
    "crossValidation(LogisticRegression(), X_enn, y_enn, 4)\n",
    "\n",
    "print(\"\\n----------------------------------------------------------------------\\n\")"
   ]
  },
  {
   "cell_type": "code",
   "execution_count": 380,
   "metadata": {},
   "outputs": [
    {
     "name": "stdout",
     "output_type": "stream",
     "text": [
      "\n",
      "----------------------------------------------------------------------\n",
      "\n",
      "KNN Classifier on ENN undersample Training dataset:\n",
      "\n",
      "Confusion Matrix: \n",
      "[[71 54]\n",
      " [17 33]]\n",
      "\n",
      "Accuracy : 0.5942857142857143\n",
      "Sensitivity : 0.568\n",
      "Precision: 0.8068181818181818\n",
      "Specificity : 0.66\n",
      "F-Score : 0.6666666666666666\n",
      "\n",
      "               precision    recall  f1-score   support\n",
      "\n",
      "         0.0       0.81      0.57      0.67       125\n",
      "         1.0       0.38      0.66      0.48        50\n",
      "\n",
      "    accuracy                           0.59       175\n",
      "   macro avg       0.59      0.61      0.57       175\n",
      "weighted avg       0.68      0.59      0.61       175\n",
      " \n",
      "\n",
      "\n",
      "Cross Validation of KNN Classifier on ENN Undersample Training dataset:\n",
      "[0.7254902  0.73529412 0.58415842 0.67326733] \n",
      "\n",
      "0.679552514074937\n",
      "\n",
      "----------------------------------------------------------------------\n",
      "\n"
     ]
    }
   ],
   "source": [
    "print(\"\\n----------------------------------------------------------------------\\n\")\n",
    "\n",
    "#4.1 KNN Classifier On ENN Undersample Training dataset\n",
    "print(\"KNN Classifier on ENN undersample Training dataset:\")\n",
    "clfFitPredict(KNeighborsClassifier(n_neighbors = 2), X_train_enn, X_test, y_train_enn, y_test)\n",
    "\n",
    "#Cross Validation on KNN Classifier on ENN Undersampled Training dataset\n",
    "print(\"\\nCross Validation of KNN Classifier on ENN Undersample Training dataset:\")\n",
    "crossValidation(KNeighborsClassifier(n_neighbors = 2), X_enn, y_enn, 4)\n",
    "\n",
    "print(\"\\n----------------------------------------------------------------------\\n\")"
   ]
  },
  {
   "cell_type": "code",
   "execution_count": 381,
   "metadata": {},
   "outputs": [
    {
     "name": "stdout",
     "output_type": "stream",
     "text": [
      "\n",
      "----------------------------------------------------------------------\n",
      "\n",
      "Random Forest Classifier on ENN Undersample Training dataset:\n",
      "\n",
      "Confusion Matrix: \n",
      "[[63 62]\n",
      " [ 4 46]]\n",
      "\n",
      "Accuracy : 0.6228571428571429\n",
      "Sensitivity : 0.504\n",
      "Precision: 0.9402985074626866\n",
      "Specificity : 0.92\n",
      "F-Score : 0.65625\n",
      "\n",
      "               precision    recall  f1-score   support\n",
      "\n",
      "         0.0       0.94      0.50      0.66       125\n",
      "         1.0       0.43      0.92      0.58        50\n",
      "\n",
      "    accuracy                           0.62       175\n",
      "   macro avg       0.68      0.71      0.62       175\n",
      "weighted avg       0.79      0.62      0.64       175\n",
      " \n",
      "\n",
      "\n",
      "Cross Validation of Random Forest Classifier on ENN Undersample Training dataset:\n",
      "[0.83333333 0.80392157 0.68316832 0.61386139] \n",
      "\n",
      "0.7335711512327704\n",
      "\n",
      "----------------------------------------------------------------------\n",
      "\n"
     ]
    }
   ],
   "source": [
    "print(\"\\n----------------------------------------------------------------------\\n\")\n",
    "\n",
    "#5.1 Random Forest Classifier On ENN Under Sampled Training dataset\n",
    "print(\"Random Forest Classifier on ENN Undersample Training dataset:\")\n",
    "clfFitPredict(RandomForestClassifier(max_depth=4, random_state=0), X_train_enn, X_test, y_train_enn, y_test)\n",
    "\n",
    "#Cross Validation on Random Forest Classifier on ENN Under sampled Training datset\n",
    "print(\"\\nCross Validation of Random Forest Classifier on ENN Undersample Training dataset:\")\n",
    "crossValidation(RandomForestClassifier(max_depth=4, random_state=0), X_enn, y_enn, 4)\n",
    "\n",
    "print(\"\\n----------------------------------------------------------------------\\n\")"
   ]
  },
  {
   "cell_type": "code",
   "execution_count": 383,
   "metadata": {
    "scrolled": true
   },
   "outputs": [
    {
     "name": "stdout",
     "output_type": "stream",
     "text": [
      "\n",
      "----------------------------------------------------------------------\n",
      "\n",
      "Voting Classifier on ENN Under sampled Training dataset:\n",
      "\n",
      "Confusion Matrix: \n",
      "[[60 65]\n",
      " [ 5 45]]\n",
      "\n",
      "Accuracy : 0.6\n",
      "Sensitivity : 0.48\n",
      "Precision: 0.9230769230769231\n",
      "Specificity : 0.9\n",
      "F-Score : 0.631578947368421\n",
      "\n",
      "               precision    recall  f1-score   support\n",
      "\n",
      "         0.0       0.92      0.48      0.63       125\n",
      "         1.0       0.41      0.90      0.56        50\n",
      "\n",
      "    accuracy                           0.60       175\n",
      "   macro avg       0.67      0.69      0.60       175\n",
      "weighted avg       0.78      0.60      0.61       175\n",
      " \n",
      "\n",
      "\n",
      "Cross Validation of Voting Classifier on ENN Under sampled Training dataset:\n",
      "[0.78431373 0.78431373 0.7029703  0.64356436] \n",
      "\n",
      "0.7287905261114347\n",
      "\n",
      "----------------------------------------------------------------------\n",
      "\n"
     ]
    }
   ],
   "source": [
    "print(\"\\n----------------------------------------------------------------------\\n\")\n",
    "\n",
    "#6 Voting Classifier for ENN UnderSampled Training Dataset\n",
    "print(\"Voting Classifier on ENN Under sampled Training dataset:\")\n",
    "clfs = [('rf', RandomForestClassifier(max_depth=4,random_state=1)), ('lr',LogisticRegression()), ('svm',LinearSVC()), \n",
    "       ('nb',GaussianNB())]\n",
    "vclf = VotingClassifier(estimators=clfs, voting='hard')\n",
    "clfFitPredict(vclf, X_train_enn, X_test, y_train_enn, y_test)\n",
    "\n",
    "#Cross Validation on Voting Classifier on ENN UnderSampled Training datset\n",
    "print(\"\\nCross Validation of Voting Classifier on ENN Under sampled Training dataset:\")\n",
    "crossValidation(vclf, X_enn, y_enn, 4)\n",
    "\n",
    "print(\"\\n----------------------------------------------------------------------\\n\")"
   ]
  },
  {
   "cell_type": "code",
   "execution_count": 384,
   "metadata": {},
   "outputs": [],
   "source": [
    "algo = {\"algorithms\":[\"Naive Bayes\", \"SVM\", \"Logistic Regression\", \"KNN\", \"RF\", \"Voting Classifier\"]}\n"
   ]
  }
 ],
 "metadata": {
  "kernelspec": {
   "display_name": "Python 3",
   "language": "python",
   "name": "python3"
  },
  "language_info": {
   "codemirror_mode": {
    "name": "ipython",
    "version": 3
   },
   "file_extension": ".py",
   "mimetype": "text/x-python",
   "name": "python",
   "nbconvert_exporter": "python",
   "pygments_lexer": "ipython3",
   "version": "3.7.5"
  }
 },
 "nbformat": 4,
 "nbformat_minor": 2
}
